{
 "cells": [
  {
   "cell_type": "code",
   "execution_count": 3,
   "metadata": {},
   "outputs": [
    {
     "data": {
      "text/plain": [
       "['Attribution',\n",
       " 'ClassSummarizer',\n",
       " 'CommonStats',\n",
       " 'Count',\n",
       " 'Deconvolution',\n",
       " 'DeepLift',\n",
       " 'DeepLiftShap',\n",
       " 'FeatureAblation',\n",
       " 'FeaturePermutation',\n",
       " 'GradientAttribution',\n",
       " 'GradientShap',\n",
       " 'GuidedBackprop',\n",
       " 'GuidedGradCam',\n",
       " 'InputXGradient',\n",
       " 'IntegratedGradients',\n",
       " 'InternalInfluence',\n",
       " 'InterpretableEmbeddingBase',\n",
       " 'KernelShap',\n",
       " 'LRP',\n",
       " 'LayerActivation',\n",
       " 'LayerAttribution',\n",
       " 'LayerConductance',\n",
       " 'LayerDeepLift',\n",
       " 'LayerDeepLiftShap',\n",
       " 'LayerFeatureAblation',\n",
       " 'LayerGradCam',\n",
       " 'LayerGradientShap',\n",
       " 'LayerGradientXActivation',\n",
       " 'LayerIntegratedGradients',\n",
       " 'LayerLRP',\n",
       " 'Lime',\n",
       " 'LimeBase',\n",
       " 'MSE',\n",
       " 'Max',\n",
       " 'Mean',\n",
       " 'Min',\n",
       " 'NeuronAttribution',\n",
       " 'NeuronConductance',\n",
       " 'NeuronDeconvolution',\n",
       " 'NeuronDeepLift',\n",
       " 'NeuronDeepLiftShap',\n",
       " 'NeuronFeatureAblation',\n",
       " 'NeuronGradient',\n",
       " 'NeuronGradientShap',\n",
       " 'NeuronGuidedBackprop',\n",
       " 'NeuronIntegratedGradients',\n",
       " 'NoiseTunnel',\n",
       " 'Occlusion',\n",
       " 'PerturbationAttribution',\n",
       " 'Saliency',\n",
       " 'ShapleyValueSampling',\n",
       " 'ShapleyValues',\n",
       " 'StdDev',\n",
       " 'Sum',\n",
       " 'Summarizer',\n",
       " 'TokenReferenceBase',\n",
       " 'Var',\n",
       " '__all__',\n",
       " '__builtins__',\n",
       " '__cached__',\n",
       " '__doc__',\n",
       " '__file__',\n",
       " '__loader__',\n",
       " '__name__',\n",
       " '__package__',\n",
       " '__path__',\n",
       " '__spec__',\n",
       " '_core',\n",
       " '_models',\n",
       " '_utils',\n",
       " 'configure_interpretable_embedding_layer',\n",
       " 'remove_interpretable_embedding_layer',\n",
       " 'visualization']"
      ]
     },
     "execution_count": 3,
     "metadata": {},
     "output_type": "execute_result"
    }
   ],
   "source": [
    "import captum.attr as attr\n",
    "dir(attr)"
   ]
  },
  {
   "cell_type": "code",
   "execution_count": null,
   "metadata": {},
   "outputs": [],
   "source": []
  }
 ],
 "metadata": {
  "kernelspec": {
   "display_name": "Python 3",
   "language": "python",
   "name": "python3"
  },
  "language_info": {
   "codemirror_mode": {
    "name": "ipython",
    "version": 3
   },
   "file_extension": ".py",
   "mimetype": "text/x-python",
   "name": "python",
   "nbconvert_exporter": "python",
   "pygments_lexer": "ipython3",
   "version": "3.7.4"
  }
 },
 "nbformat": 4,
 "nbformat_minor": 2
}
