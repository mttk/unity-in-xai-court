{
 "cells": [
  {
   "cell_type": "code",
   "execution_count": 1,
   "id": "1021a400",
   "metadata": {},
   "outputs": [],
   "source": [
    "from json import load\n",
    "from experiment import Experiment\n",
    "from dataloaders import *\n",
    "from train import *\n",
    "\n",
    "import pickle\n",
    "import logging\n",
    "from datetime import datetime\n",
    "\n",
    "from util import set_seed_everywhere\n",
    "\n",
    "import seaborn as sns\n",
    "import matplotlib.pyplot as plt"
   ]
  },
  {
   "cell_type": "code",
   "execution_count": 2,
   "id": "15653017",
   "metadata": {},
   "outputs": [],
   "source": [
    "# Set arguments\n",
    "\n",
    "args = Config()\n",
    "args.data = \"IMDB\"\n",
    "args.model_name = \"DBERT\"\n",
    "args.lr = 2e-5\n",
    "args.tying = 1\n",
    "args.l2 = 0\n",
    "args.conicity = 0\n",
    "args.batch_size = 32\n",
    "args.interpreters = [\"deeplift\", \"grad-shap\", \"deeplift-shap\", \"int-grad\"]\n",
    "args.correlation_measures = [\"kendall-tau\", \"pearson\", \"jsd\"]\n",
    "args.repeat = 1\n",
    "args.gpu = 0\n",
    "args.pretrained_model = \"distilbert-base-uncased\"\n",
    "args.epochs = 5\n",
    "args.warm_start_size = -1\n",
    "args.seq_classif_dropout = 0.1\n",
    "args.clip = 1.0\n",
    "\n",
    "seeds = [1]\n",
    "\n",
    "dataloader = dataset_loaders[args.data]\n",
    "\n",
    "meta = Config()\n",
    "\n",
    "if args.model_name in TRANSFORMERS:\n",
    "    tokenizer = DistilBertTokenizer.from_pretrained(args.pretrained_model)\n",
    "else:\n",
    "    tokenizer = None\n",
    "\n",
    "(train, val, test), vocab = dataloader(meta=meta, tokenizer=tokenizer)"
   ]
  },
  {
   "cell_type": "code",
   "execution_count": 3,
   "id": "7e0a3702",
   "metadata": {},
   "outputs": [
    {
     "name": "stderr",
     "output_type": "stream",
     "text": [
      "INFO:root:{'dataset': 'IMDB', 'model': 'DBERT', 'batch_size': 32, 'epochs_per_train': 5, 'seeds': [1], 'interpreters': ['deeplift', 'deeplift-shap', 'grad-shap', 'int-grad'], 'correlations': ['kendall-tau', 'pearson', 'jsd'], 'tying': 1, 'conicity': 0, 'l2': 0}\n",
      "INFO:root:Running experiment 1/1\n",
      "INFO:root:====================================================================================================\n",
      "INFO:root:Seed = 1\n",
      "INFO:root:Maximum train size: 17212\n",
      "INFO:root:Training on 17212/17212 labeled data...\n",
      "Some weights of the model checkpoint at distilbert-base-uncased were not used when initializing DistilBertModel: ['vocab_layer_norm.bias', 'vocab_transform.bias', 'vocab_transform.weight', 'vocab_projector.weight', 'vocab_layer_norm.weight', 'vocab_projector.bias']\n",
      "- This IS expected if you are initializing DistilBertModel from the checkpoint of a model trained on another task or with another architecture (e.g. initializing a BertForSequenceClassification model from a BertForPreTraining model).\n",
      "- This IS NOT expected if you are initializing DistilBertModel from the checkpoint of a model that you expect to be exactly identical (initializing a BertForSequenceClassification model from a BertForSequenceClassification model).\n",
      "INFO:root:Training epoch: 1/5\n"
     ]
    },
    {
     "name": "stdout",
     "output_type": "stream",
     "text": [
      "[Batch]: 537/538 in 0.02622 seconds\r"
     ]
    },
    {
     "name": "stderr",
     "output_type": "stream",
     "text": [
      "INFO:root:[Train accuracy]: 59.092%\n"
     ]
    },
    {
     "name": "stdout",
     "output_type": "stream",
     "text": [
      "[Batch]: 1090/1091 in 0.00320 seconds\r"
     ]
    },
    {
     "name": "stderr",
     "output_type": "stream",
     "text": [
      "INFO:root:[Test accuracy]: 2705/4363 : 61.999%\n",
      "INFO:root:[F1]: 0.723\n",
      "INFO:root:[[ 546 1643]\n",
      " [  15 2159]]\n",
      "INFO:root:Calculating intepretability metrics...\n",
      "/home/jjukic/.conda/envs/gen/lib/python3.9/site-packages/captum/_utils/gradient.py:57: UserWarning: Input Tensor 0 did not already require gradients, required_grads has been set automatically.\n",
      "  warnings.warn(\n",
      "/home/jjukic/.conda/envs/gen/lib/python3.9/site-packages/captum/attr/_core/deep_lift.py:322: UserWarning: Setting forward, backward hooks and attributes on non-linear\n",
      "               activations. The hooks and attributes will be removed\n",
      "            after the attribution is finished\n",
      "  warnings.warn(\n"
     ]
    },
    {
     "name": "stdout",
     "output_type": "stream",
     "text": [
      "[Batch]: 1090/1091 in 0.07738 seconds\r"
     ]
    },
    {
     "name": "stderr",
     "output_type": "stream",
     "text": [
      "INFO:root:Interpretability scores\n",
      "INFO:root:Calculating cartography...\n"
     ]
    },
    {
     "name": "stdout",
     "output_type": "stream",
     "text": [
      "{'jsd': {('deeplift', 'deeplift-shap'): 0.22014572688126496,\n",
      "         ('deeplift', 'grad-shap'): 0.29497519147149753,\n",
      "         ('deeplift', 'int-grad'): 0.2935577430276524,\n",
      "         ('deeplift-shap', 'grad-shap'): 0.2884341507156221,\n",
      "         ('deeplift-shap', 'int-grad'): 0.28755268413227975,\n",
      "         ('grad-shap', 'int-grad'): 0.18321878665670327},\n",
      " 'kendall_tau': {('deeplift', 'deeplift-shap'): 0.4808751482846726,\n",
      "                 ('deeplift', 'grad-shap'): 0.2879582068366879,\n",
      "                 ('deeplift', 'int-grad'): 0.2890018766518628,\n",
      "                 ('deeplift-shap', 'grad-shap'): 0.31535405575256104,\n",
      "                 ('deeplift-shap', 'int-grad'): 0.31500537553903424,\n",
      "                 ('grad-shap', 'int-grad'): 0.5672159707635394},\n",
      " 'pearson_r': {('deeplift', 'deeplift-shap'): 0.8471544749836735,\n",
      "               ('deeplift', 'grad-shap'): 0.5932132791419015,\n",
      "               ('deeplift', 'int-grad'): 0.6039168177675814,\n",
      "               ('deeplift-shap', 'grad-shap'): 0.6162754578315843,\n",
      "               ('deeplift-shap', 'int-grad'): 0.6265745847412749,\n",
      "               ('grad-shap', 'int-grad'): 0.8343080172751827}}\n"
     ]
    },
    {
     "name": "stderr",
     "output_type": "stream",
     "text": [
      "INFO:root:Training epoch: 2/5\n"
     ]
    },
    {
     "name": "stdout",
     "output_type": "stream",
     "text": [
      "[Batch]: 537/538 in 0.02816 seconds\r"
     ]
    },
    {
     "name": "stderr",
     "output_type": "stream",
     "text": [
      "INFO:root:[Train accuracy]: 83.465%\n"
     ]
    },
    {
     "name": "stdout",
     "output_type": "stream",
     "text": [
      "[Batch]: 1090/1091 in 0.00304 seconds\r"
     ]
    },
    {
     "name": "stderr",
     "output_type": "stream",
     "text": [
      "INFO:root:[Test accuracy]: 3788/4363 : 86.821%\n",
      "INFO:root:[F1]: 0.861\n",
      "INFO:root:[[2002  187]\n",
      " [ 388 1786]]\n",
      "INFO:root:Calculating intepretability metrics...\n"
     ]
    },
    {
     "name": "stdout",
     "output_type": "stream",
     "text": [
      "[Batch]: 1090/1091 in 0.07614 seconds\r"
     ]
    },
    {
     "name": "stderr",
     "output_type": "stream",
     "text": [
      "INFO:root:Interpretability scores\n",
      "INFO:root:Calculating cartography...\n"
     ]
    },
    {
     "name": "stdout",
     "output_type": "stream",
     "text": [
      "{'jsd': {('deeplift', 'deeplift-shap'): 0.21067899967646975,\n",
      "         ('deeplift', 'grad-shap'): 0.2939694690342835,\n",
      "         ('deeplift', 'int-grad'): 0.2911178269930958,\n",
      "         ('deeplift-shap', 'grad-shap'): 0.2892811231501059,\n",
      "         ('deeplift-shap', 'int-grad'): 0.286908587835813,\n",
      "         ('grad-shap', 'int-grad'): 0.19548261308655254},\n",
      " 'kendall_tau': {('deeplift', 'deeplift-shap'): 0.4823221611744117,\n",
      "                 ('deeplift', 'grad-shap'): 0.3077817643859545,\n",
      "                 ('deeplift', 'int-grad'): 0.30853077303685905,\n",
      "                 ('deeplift-shap', 'grad-shap'): 0.33267537749322124,\n",
      "                 ('deeplift-shap', 'int-grad'): 0.33243723497923,\n",
      "                 ('grad-shap', 'int-grad'): 0.5122033326434908},\n",
      " 'pearson_r': {('deeplift', 'deeplift-shap'): 0.9265709367324457,\n",
      "               ('deeplift', 'grad-shap'): 0.8197972700492198,\n",
      "               ('deeplift', 'int-grad'): 0.8375164124729926,\n",
      "               ('deeplift-shap', 'grad-shap'): 0.8303280909339955,\n",
      "               ('deeplift-shap', 'int-grad'): 0.848233552746278,\n",
      "               ('grad-shap', 'int-grad'): 0.9053293860511451}}\n"
     ]
    },
    {
     "name": "stderr",
     "output_type": "stream",
     "text": [
      "INFO:root:Training epoch: 3/5\n"
     ]
    },
    {
     "name": "stdout",
     "output_type": "stream",
     "text": [
      "[Batch]: 537/538 in 0.02636 seconds\r"
     ]
    },
    {
     "name": "stderr",
     "output_type": "stream",
     "text": [
      "INFO:root:[Train accuracy]: 89.327%\n"
     ]
    },
    {
     "name": "stdout",
     "output_type": "stream",
     "text": [
      "[Batch]: 1090/1091 in 0.00317 seconds\r"
     ]
    },
    {
     "name": "stderr",
     "output_type": "stream",
     "text": [
      "INFO:root:[Test accuracy]: 3837/4363 : 87.944%\n",
      "INFO:root:[F1]: 0.877\n",
      "INFO:root:[[1967  222]\n",
      " [ 304 1870]]\n",
      "INFO:root:Calculating intepretability metrics...\n"
     ]
    },
    {
     "name": "stdout",
     "output_type": "stream",
     "text": [
      "[Batch]: 1090/1091 in 0.07546 seconds\r"
     ]
    },
    {
     "name": "stderr",
     "output_type": "stream",
     "text": [
      "INFO:root:Interpretability scores\n",
      "INFO:root:Calculating cartography...\n"
     ]
    },
    {
     "name": "stdout",
     "output_type": "stream",
     "text": [
      "{'jsd': {('deeplift', 'deeplift-shap'): 0.28455635783105926,\n",
      "         ('deeplift', 'grad-shap'): 0.35522573817250847,\n",
      "         ('deeplift', 'int-grad'): 0.35389533356335967,\n",
      "         ('deeplift-shap', 'grad-shap'): 0.34390153507236354,\n",
      "         ('deeplift-shap', 'int-grad'): 0.34219658634547845,\n",
      "         ('grad-shap', 'int-grad'): 0.23750428438798127},\n",
      " 'kendall_tau': {('deeplift', 'deeplift-shap'): 0.4175374657244918,\n",
      "                 ('deeplift', 'grad-shap'): 0.25492392039834455,\n",
      "                 ('deeplift', 'int-grad'): 0.25844962514760633,\n",
      "                 ('deeplift-shap', 'grad-shap'): 0.2728909640293236,\n",
      "                 ('deeplift-shap', 'int-grad'): 0.2747964654013279,\n",
      "                 ('grad-shap', 'int-grad'): 0.43450258260772495},\n",
      " 'pearson_r': {('deeplift', 'deeplift-shap'): 0.7972215229885139,\n",
      "               ('deeplift', 'grad-shap'): 0.6171426432213253,\n",
      "               ('deeplift', 'int-grad'): 0.624673720382019,\n",
      "               ('deeplift-shap', 'grad-shap'): 0.6467046338566584,\n",
      "               ('deeplift-shap', 'int-grad'): 0.6577252622351565,\n",
      "               ('grad-shap', 'int-grad'): 0.812237116425105}}\n"
     ]
    },
    {
     "name": "stderr",
     "output_type": "stream",
     "text": [
      "INFO:root:Training epoch: 4/5\n"
     ]
    },
    {
     "name": "stdout",
     "output_type": "stream",
     "text": [
      "[Batch]: 537/538 in 0.02860 seconds\r"
     ]
    },
    {
     "name": "stderr",
     "output_type": "stream",
     "text": [
      "INFO:root:[Train accuracy]: 92.941%\n"
     ]
    },
    {
     "name": "stdout",
     "output_type": "stream",
     "text": [
      "[Batch]: 1090/1091 in 0.00302 seconds\r"
     ]
    },
    {
     "name": "stderr",
     "output_type": "stream",
     "text": [
      "INFO:root:[Test accuracy]: 3801/4363 : 87.119%\n",
      "INFO:root:[F1]: 0.878\n",
      "INFO:root:[[1783  406]\n",
      " [ 156 2018]]\n",
      "INFO:root:Calculating intepretability metrics...\n"
     ]
    },
    {
     "name": "stdout",
     "output_type": "stream",
     "text": [
      "[Batch]: 1090/1091 in 0.07622 seconds\r"
     ]
    },
    {
     "name": "stderr",
     "output_type": "stream",
     "text": [
      "INFO:root:Interpretability scores\n",
      "INFO:root:Calculating cartography...\n"
     ]
    },
    {
     "name": "stdout",
     "output_type": "stream",
     "text": [
      "{'jsd': {('deeplift', 'deeplift-shap'): 0.30246711262775394,\n",
      "         ('deeplift', 'grad-shap'): 0.38648509619045335,\n",
      "         ('deeplift', 'int-grad'): 0.3892202964747438,\n",
      "         ('deeplift-shap', 'grad-shap'): 0.3777392732614694,\n",
      "         ('deeplift-shap', 'int-grad'): 0.38080604831188625,\n",
      "         ('grad-shap', 'int-grad'): 0.25207969864342206},\n",
      " 'kendall_tau': {('deeplift', 'deeplift-shap'): 0.3996044094729315,\n",
      "                 ('deeplift', 'grad-shap'): 0.2073821206053311,\n",
      "                 ('deeplift', 'int-grad'): 0.20305897434857967,\n",
      "                 ('deeplift-shap', 'grad-shap'): 0.217636659101302,\n",
      "                 ('deeplift-shap', 'int-grad'): 0.21090415070781532,\n",
      "                 ('grad-shap', 'int-grad'): 0.4035507907801087},\n",
      " 'pearson_r': {('deeplift', 'deeplift-shap'): 0.7490517593531251,\n",
      "               ('deeplift', 'grad-shap'): 0.49691624196451173,\n",
      "               ('deeplift', 'int-grad'): 0.4910723403847296,\n",
      "               ('deeplift-shap', 'grad-shap'): 0.5231247670642486,\n",
      "               ('deeplift-shap', 'int-grad'): 0.5179302617855898,\n",
      "               ('grad-shap', 'int-grad'): 0.735929223543687}}\n"
     ]
    },
    {
     "name": "stderr",
     "output_type": "stream",
     "text": [
      "INFO:root:Training epoch: 5/5\n"
     ]
    },
    {
     "name": "stdout",
     "output_type": "stream",
     "text": [
      "[Batch]: 537/538 in 0.02874 seconds\r"
     ]
    },
    {
     "name": "stderr",
     "output_type": "stream",
     "text": [
      "INFO:root:[Train accuracy]: 95.335%\n"
     ]
    },
    {
     "name": "stdout",
     "output_type": "stream",
     "text": [
      "[Batch]: 1090/1091 in 0.00306 seconds\r"
     ]
    },
    {
     "name": "stderr",
     "output_type": "stream",
     "text": [
      "INFO:root:[Test accuracy]: 3808/4363 : 87.279%\n",
      "INFO:root:[F1]: 0.874\n",
      "INFO:root:[[1885  304]\n",
      " [ 251 1923]]\n",
      "INFO:root:Calculating intepretability metrics...\n"
     ]
    },
    {
     "name": "stdout",
     "output_type": "stream",
     "text": [
      "[Batch]: 1090/1091 in 0.07280 seconds\r"
     ]
    },
    {
     "name": "stderr",
     "output_type": "stream",
     "text": [
      "INFO:root:Interpretability scores\n",
      "INFO:root:Calculating cartography...\n"
     ]
    },
    {
     "name": "stdout",
     "output_type": "stream",
     "text": [
      "{'jsd': {('deeplift', 'deeplift-shap'): 0.3143727347507529,\n",
      "         ('deeplift', 'grad-shap'): 0.4038225989890117,\n",
      "         ('deeplift', 'int-grad'): 0.40953783007192496,\n",
      "         ('deeplift-shap', 'grad-shap'): 0.3954846679809119,\n",
      "         ('deeplift-shap', 'int-grad'): 0.4006464624781549,\n",
      "         ('grad-shap', 'int-grad'): 0.2626779614442524},\n",
      " 'kendall_tau': {('deeplift', 'deeplift-shap'): 0.3846725537352335,\n",
      "                 ('deeplift', 'grad-shap'): 0.16599527201969091,\n",
      "                 ('deeplift', 'int-grad'): 0.15233275920490752,\n",
      "                 ('deeplift-shap', 'grad-shap'): 0.1747178449496898,\n",
      "                 ('deeplift-shap', 'int-grad'): 0.16217815483264567,\n",
      "                 ('grad-shap', 'int-grad'): 0.37973686482973157},\n",
      " 'pearson_r': {('deeplift', 'deeplift-shap'): 0.7033623365603818,\n",
      "               ('deeplift', 'grad-shap'): 0.39219585752825736,\n",
      "               ('deeplift', 'int-grad'): 0.3746676478158296,\n",
      "               ('deeplift-shap', 'grad-shap'): 0.42464921486668084,\n",
      "               ('deeplift-shap', 'int-grad'): 0.412239688345602,\n",
      "               ('grad-shap', 'int-grad'): 0.6801533527759046}}\n"
     ]
    },
    {
     "name": "stderr",
     "output_type": "stream",
     "text": [
      "INFO:root:Saving the model...\n",
      "INFO:root:Computing dataset cartography...\n"
     ]
    }
   ],
   "source": [
    "# Construct correlation metrics\n",
    "correlations = [get_corr(key)() for key in args.correlation_measures]\n",
    "\n",
    "# Initialize logging\n",
    "fmt = \"%Y-%m-%d-%H-%M\"\n",
    "start_time = fname = datetime.now().strftime(fmt)\n",
    "logging.basicConfig(\n",
    "    level=logging.INFO,\n",
    "    handlers=[\n",
    "        logging.FileHandler(f\"log/{args.data}-{args.model_name}-{start_time}.log\"),\n",
    "        logging.StreamHandler(),\n",
    "    ],\n",
    ")\n",
    "\n",
    "args.interpreters = sorted(args.interpreters)\n",
    "test_lengths = [len(ex.text[1]) for ex in test.examples]\n",
    "meta_info = {\n",
    "    \"dataset\": args.data,\n",
    "    \"model\": args.model_name,\n",
    "    \"batch_size\": args.batch_size,\n",
    "    \"epochs_per_train\": args.epochs,\n",
    "    \"seeds\": seeds,\n",
    "    \"interpreters\": args.interpreters,\n",
    "    \"correlations\": args.correlation_measures,\n",
    "    \"tying\": args.tying,\n",
    "    \"conicity\": args.conicity,\n",
    "    \"l2\": args.l2,\n",
    "}\n",
    "logging.info(meta_info)\n",
    "\n",
    "result_list = []\n",
    "for i, seed in zip(range(1, args.repeat + 1), seeds):\n",
    "    logging.info(f\"Running experiment {i}/{args.repeat}\")\n",
    "    logging.info(f\"=\" * 100)\n",
    "\n",
    "    set_seed_everywhere(seed)\n",
    "    logging.info(f\"Seed = {seed}\")\n",
    "    logging.info(f\"Maximum train size: {len(train)}\")\n",
    "\n",
    "    cuda = torch.cuda.is_available() and args.gpu != -1\n",
    "    device = torch.device(\"cpu\") if not cuda else torch.device(f\"cuda:{args.gpu}\")\n",
    "\n",
    "    # Setup the loss fn\n",
    "    if meta.num_labels == 2:\n",
    "        # Binary classification\n",
    "        criterion = nn.BCEWithLogitsLoss()\n",
    "        meta.num_targets = 1\n",
    "    else:\n",
    "        # Multiclass classification\n",
    "        criterion = nn.CrossEntropyLoss()\n",
    "        meta.num_targets = meta.num_labels\n",
    "\n",
    "    experiment = Experiment(train, test, device, args, meta)\n",
    "    meta_info[\"test_lengths\"] = experiment.test_lengths.tolist()\n",
    "    meta_info[\"test_mapping\"] = experiment.get_id_mapping()\n",
    "\n",
    "    results, model = experiment.run(\n",
    "        create_model_fn=initialize_model,\n",
    "        criterion=criterion,\n",
    "        warm_start_size=args.warm_start_size,\n",
    "        correlations=correlations,\n",
    "    )\n",
    "    result_list.append(results)\n",
    "    \n",
    "\n",
    "# fname = f\"{args.data}-{args.model_name}-conicity={args.conicity}-tying={args.tying}-l2={args.l2}-{start_time}.pkl\"\n",
    "# with open(f\"{args.save_dir}/{fname}\", \"wb\") as f:\n",
    "#     pickle.dump((result_list, meta_info), f)"
   ]
  },
  {
   "cell_type": "code",
   "execution_count": 4,
   "id": "121e7d4f",
   "metadata": {},
   "outputs": [],
   "source": [
    "def calc_entropy(input_tensor):\n",
    "    lsm = nn.LogSoftmax(dim=1)\n",
    "    log_probs = lsm(input_tensor)\n",
    "    probs = torch.exp(log_probs)\n",
    "    p_log_p = log_probs * probs\n",
    "    entropy = -p_log_p.mean(dim=1)\n",
    "    return entropy"
   ]
  },
  {
   "cell_type": "code",
   "execution_count": 5,
   "id": "8085b996",
   "metadata": {},
   "outputs": [],
   "source": [
    "# Saliency distribution statistics\n",
    "\n",
    "model.train()\n",
    "grads = []\n",
    "vars_ = []\n",
    "kurts = []\n",
    "skews = []\n",
    "enc = []\n",
    "norms = []\n",
    "\n",
    "for b in make_iterable(test, device=device):\n",
    "    inputs, lengths = b.text\n",
    "    inputs.requires_grad = False\n",
    "    pad_idx = model.vocab.get_padding_index()\n",
    "    attention_mask = inputs != pad_idx  # Orig impl was .long()\n",
    "    embedded_tokens = model.embeddings(inputs)\n",
    "    embedded_tokens = torch.autograd.Variable(embedded_tokens, requires_grad=True)\n",
    "    head_mask = attention_mask.unsqueeze(0).unsqueeze(2).unsqueeze(-1)\n",
    "    head_mask = head_mask.expand(\n",
    "        model.encoder.n_layers, -1, model.encoder.n_heads, -1, attention_mask.shape[1]\n",
    "    )\n",
    "    encoded = model.encoder(\n",
    "        inputs_embeds=embedded_tokens,\n",
    "        head_mask=head_mask,\n",
    "        attention_mask=attention_mask,\n",
    "    )[0][:, 0]\n",
    "    \n",
    "    enc.append(encoded.cpu())\n",
    "    \n",
    "    mean = encoded.mean()\n",
    "    mean.backward()\n",
    "    enc_grad = embedded_tokens.grad.data\n",
    "    norm = enc_grad.norm(p=2, dim=-1)\n",
    "    grads.append(enc_grad.norm(p=2, dim=(1,2)))\n",
    "    mean = torch.mean(norm, 1)\n",
    "    mean = mean.repeat_interleave(norm.shape[1]).reshape(-1, norm.shape[1])\n",
    "\n",
    "    diffs = norm - mean\n",
    "\n",
    "    var = torch.mean(torch.pow(diffs, 2.0), 1)\n",
    "    vars_.append(var)\n",
    "    std = torch.pow(var, 0.5)\n",
    "    std = std.repeat_interleave(diffs.shape[1]).reshape(-1, diffs.shape[1])\n",
    "    zscores = diffs / std\n",
    "    skew = torch.mean(torch.pow(zscores, 3.0), 1)\n",
    "    skews.append(skew)\n",
    "    kurtosis = torch.mean(torch.pow(zscores, 4.0), 1) - 3.0\n",
    "    kurts.append(kurtosis)\n",
    "    norms.append(norm)\n",
    "\n",
    "grad = torch.cat(grads).cpu()\n",
    "var = torch.cat(vars_).cpu()\n",
    "skew = torch.cat(skews).cpu()\n",
    "kurt = torch.cat(kurts).cpu()\n",
    "enc = torch.cat(enc).cpu()\n",
    "dist = torch.cdist(enc, enc)"
   ]
  },
  {
   "cell_type": "code",
   "execution_count": 6,
   "id": "5c5de0ce",
   "metadata": {},
   "outputs": [],
   "source": [
    "for i in range(len(dist)):\n",
    "    dist[i][i] = np.inf\n",
    "    \n",
    "min_dist = dist.min(1).values.detach()"
   ]
  },
  {
   "cell_type": "code",
   "execution_count": 7,
   "id": "470967e9",
   "metadata": {},
   "outputs": [],
   "source": [
    "for i in range(len(dist)):\n",
    "    dist[i][i] = 0\n",
    "    \n",
    "mean_dist = dist.mean(1).detach()"
   ]
  },
  {
   "cell_type": "code",
   "execution_count": 8,
   "id": "ee438df3",
   "metadata": {},
   "outputs": [
    {
     "name": "stdout",
     "output_type": "stream",
     "text": [
      "Confidence\n",
      "Min dist: (0.4974251843663135, 1.5607343862291275e-271)\n",
      "Mean dist: (0.4941234192739808, 2.0271138980482984e-267)\n",
      "Grad norm: (-0.1111132252179599, 1.8382793622764209e-13)\n",
      "Var: (0.009475117797410774, 0.5315151756787395)\n",
      "Skew: (0.14804852323031084, 8.323372500701085e-23)\n",
      "Kurtosis: (0.13974796036987636, 1.7985323983862297e-20)\n",
      "====================================================================================================\n",
      "Threshold closeness\n",
      "Min dist: (-0.7443031411111576, 0.0)\n",
      "Mean dist: (-0.7210888727434978, 0.0)\n",
      "Grad norm: (0.17346502644695286, 8.082479597529688e-31)\n",
      "Var: (-0.010353669857839793, 0.4941561526610633)\n",
      "Skew: (-0.22306932934168305, 2.4969149067228434e-50)\n",
      "Kurtosis: (-0.21430178699797467, 1.6922893596789506e-46)\n",
      "====================================================================================================\n",
      "Variability\n",
      "Min dist: (0.04305012966558808, 0.00445378651054)\n",
      "Mean dist: (0.08569290069196522, 1.4356461399928635e-08)\n",
      "Grad norm: (0.29936974821055784, 4.871780331785587e-91)\n",
      "Var: (0.004573399332509245, 0.7626506852648985)\n",
      "Skew: (-0.3356138925356771, 2.4589953960716207e-115)\n",
      "Kurtosis: (-0.3344713899899211, 1.6176636018048833e-114)\n"
     ]
    }
   ],
   "source": [
    "from scipy.stats import pearsonr, kendalltau\n",
    "\n",
    "conf = results[\"cartography\"][\"test\"][\"confidence\"]\n",
    "variab = results[\"cartography\"][\"test\"][\"variability\"]\n",
    "tc = conf*(1-conf)\n",
    "\n",
    "print(\"Confidence\")\n",
    "print(f\"Min dist: {pearsonr(min_dist, conf)}\")\n",
    "print(f\"Mean dist: {pearsonr(mean_dist, conf)}\")\n",
    "print(f\"Grad norm: {pearsonr(grad, conf)}\")\n",
    "print(f\"Var: {pearsonr(var, conf)}\")\n",
    "print(f\"Skew: {pearsonr(skew, conf)}\")\n",
    "print(f\"Kurtosis: {pearsonr(kurt, conf)}\")\n",
    "print(\"=\"*100)\n",
    "print(\"Threshold closeness\")\n",
    "print(f\"Min dist: {pearsonr(min_dist, tc)}\")\n",
    "print(f\"Mean dist: {pearsonr(mean_dist, tc)}\")\n",
    "print(f\"Grad norm: {pearsonr(grad, tc)}\")\n",
    "print(f\"Var: {pearsonr(var, tc)}\")\n",
    "print(f\"Skew: {pearsonr(skew, tc)}\")\n",
    "print(f\"Kurtosis: {pearsonr(kurt, tc)}\")\n",
    "print(\"=\"*100)\n",
    "print(\"Variability\")\n",
    "print(f\"Min dist: {pearsonr(min_dist, variab)}\")\n",
    "print(f\"Mean dist: {pearsonr(mean_dist, variab)}\")\n",
    "print(f\"Grad norm: {pearsonr(grad, variab)}\")\n",
    "print(f\"Var: {pearsonr(var, variab)}\")\n",
    "print(f\"Skew: {pearsonr(skew, variab)}\")\n",
    "print(f\"Kurtosis: {pearsonr(kurt, variab)}\")"
   ]
  },
  {
   "cell_type": "code",
   "execution_count": null,
   "id": "eead7b35",
   "metadata": {},
   "outputs": [],
   "source": []
  },
  {
   "cell_type": "code",
   "execution_count": 70,
   "id": "bea67adf",
   "metadata": {},
   "outputs": [
    {
     "data": {
      "image/png": "[encoded data removed]",
      "text/plain": [
       "<Figure size 432x288 with 1 Axes>"
      ]
     },
     "metadata": {
      "needs_background": "light"
     },
     "output_type": "display_data"
    }
   ],
   "source": [
    "sns.histplot(skew)\n",
    "plt.title(\"Skewness\");"
   ]
  },
  {
   "cell_type": "code",
   "execution_count": 92,
   "id": "ffdbced1",
   "metadata": {},
   "outputs": [
    {
     "data": {
      "image/png": "[encoded data removed]",
      "text/plain": [
       "<Figure size 432x288 with 1 Axes>"
      ]
     },
     "metadata": {
      "needs_background": "light"
     },
     "output_type": "display_data"
    }
   ],
   "source": [
    "sns.histplot(norm)\n",
    "plt.title(\"Kurtosis\");"
   ]
  },
  {
   "cell_type": "code",
   "execution_count": null,
   "id": "4778c34c",
   "metadata": {},
   "outputs": [],
   "source": [
    "# model.train()\n",
    "# ents = []\n",
    "# norms = []\n",
    "\n",
    "# for b in make_iterable(test, device=device):\n",
    "#     inputs, lengths = b.text\n",
    "#     inputs.requires_grad = False\n",
    "#     pad_idx = model.vocab.get_padding_index()\n",
    "#     attention_mask = inputs != pad_idx  # Orig impl was .long()\n",
    "#     embedded_tokens = model.embeddings(inputs)\n",
    "#     embedded_tokens = torch.autograd.Variable(embedded_tokens, requires_grad=True)\n",
    "#     head_mask = attention_mask.unsqueeze(0).unsqueeze(2).unsqueeze(-1)\n",
    "#     head_mask = head_mask.expand(\n",
    "#         model.encoder.n_layers, -1, model.encoder.n_heads, -1, attention_mask.shape[1]\n",
    "#     )\n",
    "#     encoded = model.encoder(\n",
    "#         inputs_embeds=embedded_tokens,\n",
    "#         head_mask=head_mask,\n",
    "#         attention_mask=attention_mask,\n",
    "#     )[0][:, 0]\n",
    "#     mean = encoded.mean()\n",
    "#     mean.backward()\n",
    "#     enc_grad = embedded_tokens.grad.data\n",
    "#     norm = enc_grad.norm(p=2, dim=(1,2))\n",
    "#     norms.append(norm)\n",
    "#     print(norm)\n",
    "# #     entropy = calc_entropy(norm*1e7)\n",
    "# #     ents.append(entropy)\n",
    "# norm = torch.cat(norms).cpu().numpy()"
   ]
  },
  {
   "cell_type": "code",
   "execution_count": 235,
   "id": "152270d4",
   "metadata": {},
   "outputs": [],
   "source": [
    "model.train()\n",
    "device = torch.device(\"cpu\")\n",
    "model.to(device)\n",
    "enc = []\n",
    "\n",
    "for b in make_iterable(test, device=device):\n",
    "    inputs, lengths = b.text\n",
    "    inputs.requires_grad = False\n",
    "    pad_idx = model.vocab.get_padding_index()\n",
    "    attention_mask = inputs != pad_idx  # Orig impl was .long()\n",
    "    embedded_tokens = model.embeddings(inputs)\n",
    "    embedded_tokens = torch.autograd.Variable(embedded_tokens, requires_grad=True)\n",
    "    head_mask = attention_mask.unsqueeze(0).unsqueeze(2).unsqueeze(-1)\n",
    "    head_mask = head_mask.expand(\n",
    "        model.encoder.n_layers, -1, model.encoder.n_heads, -1, attention_mask.shape[1]\n",
    "    )\n",
    "    encoded = model.encoder(\n",
    "        inputs_embeds=embedded_tokens,\n",
    "        head_mask=head_mask,\n",
    "        attention_mask=attention_mask,\n",
    "    )[0][:, 0]\n",
    "    \n",
    "    enc.append(encoded.cpu())\n",
    "    \n",
    "enc = torch.cat(enc)\n",
    "pd = torch.nn.PairwiseDistance()\n",
    "dist = torch.cdist(enc, enc)"
   ]
  },
  {
   "cell_type": "code",
   "execution_count": 236,
   "id": "30ea1480",
   "metadata": {},
   "outputs": [
    {
     "data": {
      "text/plain": [
       "torch.Size([2000, 2000])"
      ]
     },
     "execution_count": 236,
     "metadata": {},
     "output_type": "execute_result"
    }
   ],
   "source": [
    "dist.shape"
   ]
  },
  {
   "cell_type": "code",
   "execution_count": 243,
   "id": "64e33036",
   "metadata": {},
   "outputs": [],
   "source": [
    "ex_dist = dist.mean(1).detach().numpy()"
   ]
  },
  {
   "cell_type": "code",
   "execution_count": 290,
   "id": "9ca006b2",
   "metadata": {},
   "outputs": [
    {
     "name": "stderr",
     "output_type": "stream",
     "text": [
      "/home/jjukic/.conda/envs/gen/lib/python3.9/site-packages/pandas/core/arraylike.py:364: RuntimeWarning: invalid value encountered in log10\n",
      "  result = getattr(ufunc, method)(*inputs, **kwargs)\n"
     ]
    },
    {
     "data": {
      "text/plain": [
       "<AxesSubplot:ylabel='Count'>"
      ]
     },
     "execution_count": 290,
     "metadata": {},
     "output_type": "execute_result"
    },
    {
     "data": {
      "image/png": "[encoded data removed]",
      "text/plain": [
       "<Figure size 432x288 with 1 Axes>"
      ]
     },
     "metadata": {
      "needs_background": "light"
     },
     "output_type": "display_data"
    }
   ],
   "source": []
  },
  {
   "cell_type": "code",
   "execution_count": null,
   "id": "28706a55",
   "metadata": {},
   "outputs": [],
   "source": []
  },
  {
   "cell_type": "code",
   "execution_count": 119,
   "id": "0b98e96f",
   "metadata": {},
   "outputs": [],
   "source": [
    "\n",
    "vari = results[\"cartography\"][\"test\"][\"variability\"]"
   ]
  },
  {
   "cell_type": "code",
   "execution_count": 104,
   "id": "cdf98fad",
   "metadata": {},
   "outputs": [
    {
     "ename": "NameError",
     "evalue": "name 'conf' is not defined",
     "output_type": "error",
     "traceback": [
      "\u001b[0;31m---------------------------------------------------------------------------\u001b[0m",
      "\u001b[0;31mNameError\u001b[0m                                 Traceback (most recent call last)",
      "\u001b[0;32m/tmp/ipykernel_1936239/1353756740.py\u001b[0m in \u001b[0;36m<module>\u001b[0;34m\u001b[0m\n\u001b[1;32m      1\u001b[0m \u001b[0;32mfrom\u001b[0m \u001b[0mscipy\u001b[0m\u001b[0;34m.\u001b[0m\u001b[0mstats\u001b[0m \u001b[0;32mimport\u001b[0m \u001b[0mpearsonr\u001b[0m\u001b[0;34m,\u001b[0m \u001b[0mkendalltau\u001b[0m\u001b[0;34m\u001b[0m\u001b[0;34m\u001b[0m\u001b[0m\n\u001b[1;32m      2\u001b[0m \u001b[0;34m\u001b[0m\u001b[0m\n\u001b[0;32m----> 3\u001b[0;31m \u001b[0mpearsonr\u001b[0m\u001b[0;34m(\u001b[0m\u001b[0mkurt\u001b[0m\u001b[0;34m,\u001b[0m \u001b[0mconf\u001b[0m\u001b[0;34m*\u001b[0m\u001b[0;34m(\u001b[0m\u001b[0;36m1\u001b[0m\u001b[0;34m-\u001b[0m\u001b[0mconf\u001b[0m\u001b[0;34m)\u001b[0m\u001b[0;34m)\u001b[0m\u001b[0;34m\u001b[0m\u001b[0;34m\u001b[0m\u001b[0m\n\u001b[0m",
      "\u001b[0;31mNameError\u001b[0m: name 'conf' is not defined"
     ]
    }
   ],
   "source": []
  },
  {
   "cell_type": "code",
   "execution_count": 110,
   "id": "616c748f",
   "metadata": {},
   "outputs": [
    {
     "data": {
      "text/plain": [
       "(-0.3502921003702205, 8.09742682386112e-59)"
      ]
     },
     "execution_count": 110,
     "metadata": {},
     "output_type": "execute_result"
    }
   ],
   "source": []
  },
  {
   "cell_type": "code",
   "execution_count": 193,
   "id": "e11b05eb",
   "metadata": {},
   "outputs": [
    {
     "data": {
      "text/plain": [
       "<AxesSubplot:ylabel='Count'>"
      ]
     },
     "execution_count": 193,
     "metadata": {},
     "output_type": "execute_result"
    },
    {
     "data": {
      "image/png": "[encoded data removed]",
      "text/plain": [
       "<Figure size 432x288 with 1 Axes>"
      ]
     },
     "metadata": {
      "needs_background": "light"
     },
     "output_type": "display_data"
    }
   ],
   "source": [
    "inds = conf > 0.9\n",
    "norm_easy = ent[inds]\n",
    "conf_easy = conf[inds]\n",
    "\n",
    "sns.histplot(norm_easy+1e-40, log_scale=True)"
   ]
  },
  {
   "cell_type": "code",
   "execution_count": 82,
   "id": "e95c621c",
   "metadata": {},
   "outputs": [
    {
     "data": {
      "text/plain": [
       "<AxesSubplot:ylabel='Count'>"
      ]
     },
     "execution_count": 82,
     "metadata": {},
     "output_type": "execute_result"
    },
    {
     "data": {
      "image/png": "[encoded data removed]",
      "text/plain": [
       "<Figure size 432x288 with 1 Axes>"
      ]
     },
     "metadata": {
      "needs_background": "light"
     },
     "output_type": "display_data"
    }
   ],
   "source": [
    "inds = conf < 0.5\n",
    "norm_easy = norm[inds]\n",
    "conf_easy = conf[inds]\n",
    "\n",
    "sns.histplot(norm_easy)"
   ]
  },
  {
   "cell_type": "code",
   "execution_count": 78,
   "id": "678faf1f",
   "metadata": {},
   "outputs": [
    {
     "data": {
      "text/plain": [
       "<AxesSubplot:ylabel='Count'>"
      ]
     },
     "execution_count": 78,
     "metadata": {},
     "output_type": "execute_result"
    },
    {
     "data": {
      "image/png": "[encoded data removed]",
      "text/plain": [
       "<Figure size 432x288 with 1 Axes>"
      ]
     },
     "metadata": {
      "needs_background": "light"
     },
     "output_type": "display_data"
    }
   ],
   "source": [
    "import seaborn as sns\n",
    "\n",
    "\n",
    "sns.histplot(norm)"
   ]
  },
  {
   "cell_type": "code",
   "execution_count": 27,
   "id": "cdf877f9",
   "metadata": {},
   "outputs": [
    {
     "name": "stdout",
     "output_type": "stream",
     "text": [
      "KendalltauResult(correlation=0.4666666666666666, pvalue=0.07255015432098766)\n",
      "(0.9459306038458809, 3.502055879128291e-05)\n"
     ]
    }
   ],
   "source": [
    "import scipy.stats as stats\n",
    "import numpy as np\n",
    "\n",
    "# Interesting story, wonderful and exiciting acting, and very impressive dialogue. \n",
    "X = np.array([1, 0.04, 1.1, 0.01, 1.4, 0.02, 0.05, 1.2, 1.3, 0.03])\n",
    "Y = np.array([1.4, 0.02, 1.3, 0.01, 1, 0.03, 0.04, 1.1, 1.2, 0.05])\n",
    "\n",
    "print(stats.kendalltau(X, Y))\n",
    "print(stats.pearsonr(X, Y))"
   ]
  },
  {
   "cell_type": "code",
   "execution_count": 35,
   "id": "7cfeb37b",
   "metadata": {},
   "outputs": [],
   "source": [
    "from sklearn.preprocessing import MinMaxScaler as MMS\n",
    "\n",
    "mms = MMS((0, 1))\n",
    "x_t = mms.fit_transform(X.reshape(-1, 1)).ravel()\n",
    "y_t = mms.fit_transform(Y.reshape(-1, 1)).ravel()"
   ]
  },
  {
   "cell_type": "code",
   "execution_count": 2,
   "id": "47468133",
   "metadata": {},
   "outputs": [],
   "source": [
    "import scipy.stats as stats\n",
    "import numpy as np"
   ]
  },
  {
   "cell_type": "code",
   "execution_count": 3,
   "id": "4fc34671",
   "metadata": {},
   "outputs": [
    {
     "data": {
      "text/plain": [
       "KendalltauResult(correlation=-1.0, pvalue=1.0)"
      ]
     },
     "execution_count": 3,
     "metadata": {},
     "output_type": "execute_result"
    }
   ],
   "source": [
    "stats.kendalltau([1,2], [2,1])"
   ]
  },
  {
   "cell_type": "code",
   "execution_count": 38,
   "id": "12c95b8a",
   "metadata": {},
   "outputs": [
    {
     "data": {
      "text/plain": [
       "array([1.        , 0.00719424, 0.92805755, 0.        , 0.71223022,\n",
       "       0.01438849, 0.02158273, 0.78417266, 0.85611511, 0.02877698])"
      ]
     },
     "execution_count": 38,
     "metadata": {},
     "output_type": "execute_result"
    }
   ],
   "source": [
    "y_t"
   ]
  },
  {
   "cell_type": "code",
   "execution_count": 36,
   "id": "190e8162",
   "metadata": {},
   "outputs": [
    {
     "name": "stdout",
     "output_type": "stream",
     "text": [
      "KendalltauResult(correlation=0.4666666666666666, pvalue=0.07255015432098766)\n",
      "(0.945930603845881, 3.5020558791282634e-05)\n"
     ]
    }
   ],
   "source": [
    "print(stats.kendalltau(x_t, y_t))\n",
    "print(stats.pearsonr(x_t, y_t))"
   ]
  },
  {
   "cell_type": "code",
   "execution_count": null,
   "id": "82298f7b",
   "metadata": {},
   "outputs": [],
   "source": [
    "import scipy.stats as stats\n",
    "\n",
    "# Interesting story, wonderful and exiciting acting, and very impressive dialogue. \n",
    "X = [1, 0.03, 1.1, 0.01, 1.4, 0.02, 0.05, 1.2, 1.3, 0.04]\n",
    "Y = [1.4, 0.02, 1.3, 0.01, 1.1, 0.03, 0.05, 1, 1.1, 0.04]\n",
    "\n",
    "print(stats.kendalltau(X, Y))\n",
    "print(stats.pearsonr(X, Y))"
   ]
  }
 ],
 "metadata": {
  "kernelspec": {
   "display_name": "Python 3 (ipykernel)",
   "language": "python",
   "name": "python3"
  },
  "language_info": {
   "codemirror_mode": {
    "name": "ipython",
    "version": 3
   },
   "file_extension": ".py",
   "mimetype": "text/x-python",
   "name": "python",
   "nbconvert_exporter": "python",
   "pygments_lexer": "ipython3",
   "version": "3.9.5"
  }
 },
 "nbformat": 4,
 "nbformat_minor": 5
}
