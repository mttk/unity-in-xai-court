{
 "cells": [
  {
   "cell_type": "code",
   "execution_count": 1,
   "id": "c55886cb",
   "metadata": {},
   "outputs": [],
   "source": [
    "import pandas as pd\n",
    "\n",
    "\n",
    "# train = pd.read_csv(\"data/IMDB_sentences/IMDB_nlptown_bert_train.csv\", header=None)\n",
    "# test = pd.read_csv(\"data/IMDB_sentences/IMDB_nlptown_bert_test.csv\", header=None)"
   ]
  },
  {
   "cell_type": "code",
   "execution_count": 1,
   "id": "065a0cec",
   "metadata": {},
   "outputs": [],
   "source": [
    "from datasets import load_dataset"
   ]
  },
  {
   "cell_type": "code",
   "execution_count": 62,
   "id": "37983c11",
   "metadata": {},
   "outputs": [
    {
     "name": "stderr",
     "output_type": "stream",
     "text": [
      "Reusing dataset glue (/home/jjukic/.cache/huggingface/datasets/glue/sst2/1.0.0/dacbe3125aa31d7f70367a07a8a9e72a5a0bfeb5fc42e75c9db75b96da6053ad)\n"
     ]
    },
    {
     "data": {
      "application/vnd.jupyter.widget-view+json": {
       "model_id": "1954b13eddc04917a5a30393b8cb1c34",
       "version_major": 2,
       "version_minor": 0
      },
      "text/plain": [
       "  0%|          | 0/3 [00:00<?, ?it/s]"
      ]
     },
     "metadata": {},
     "output_type": "display_data"
    }
   ],
   "source": [
    "dataset = load_dataset(\"glue\", \"sst2\")"
   ]
  },
  {
   "cell_type": "code",
   "execution_count": 65,
   "id": "08d6c1f0",
   "metadata": {},
   "outputs": [],
   "source": [
    "train = dataset[\"train\"].to_pandas().rename(columns={\"sentence\": \"text\"})[[\"text\", \"label\"]]\n",
    "train.to_csv(\"data/SST/train.csv\", header=False)"
   ]
  },
  {
   "cell_type": "code",
   "execution_count": 68,
   "id": "87fd787e",
   "metadata": {},
   "outputs": [],
   "source": [
    "valid = dataset[\"validation\"].to_pandas().rename(columns={\"sentence\": \"text\"})[[\"text\", \"label\"]]\n",
    "valid.to_csv(\"data/SST/dev.csv\", header=False)"
   ]
  },
  {
   "cell_type": "code",
   "execution_count": 19,
   "id": "5a0f9686",
   "metadata": {},
   "outputs": [],
   "source": [
    "train = train[train[0].str.split().str.len() >= 3]\n",
    "test = test[test[0].str.split().str.len() >= 3]"
   ]
  },
  {
   "cell_type": "code",
   "execution_count": 21,
   "id": "0f89681d",
   "metadata": {},
   "outputs": [],
   "source": [
    "train.to_csv(\"data/IMDB_sentences/IMDB_nlptown_bert_train.csv\", header=False, index=False)\n",
    "test.to_csv(\"data/IMDB_sentences/IMDB_nlptown_bert_test.csv\", header=False, index=False)"
   ]
  },
  {
   "cell_type": "code",
   "execution_count": 2,
   "id": "a5b20f64",
   "metadata": {},
   "outputs": [
    {
     "ename": "AttributeError",
     "evalue": "'str' object has no attribute 'convert_tokens_to_ids'",
     "output_type": "error",
     "traceback": [
      "\u001b[0;31m---------------------------------------------------------------------------\u001b[0m",
      "\u001b[0;31mAttributeError\u001b[0m                            Traceback (most recent call last)",
      "\u001b[0;32m/tmp/ipykernel_3447051/2372828405.py\u001b[0m in \u001b[0;36m<module>\u001b[0;34m\u001b[0m\n\u001b[1;32m      7\u001b[0m \u001b[0;34m\u001b[0m\u001b[0m\n\u001b[1;32m      8\u001b[0m \u001b[0;34m\u001b[0m\u001b[0m\n\u001b[0;32m----> 9\u001b[0;31m (train, val, test), vocab = load_imdb(\n\u001b[0m\u001b[1;32m     10\u001b[0m     \u001b[0;34m\"data/IMDB/train.csv\"\u001b[0m\u001b[0;34m,\u001b[0m \u001b[0;34m\"data/IMDB/dev.csv\"\u001b[0m\u001b[0;34m,\u001b[0m \u001b[0;34m\"data/IMDB/test.csv\"\u001b[0m\u001b[0;34m,\u001b[0m \u001b[0mmax_len\u001b[0m\u001b[0;34m=\u001b[0m\u001b[0;36m200\u001b[0m\u001b[0;34m\u001b[0m\u001b[0;34m\u001b[0m\u001b[0m\n\u001b[1;32m     11\u001b[0m )\n",
      "\u001b[0;32m~/unity-in-xai-court/dataloaders.py\u001b[0m in \u001b[0;36mload_imdb\u001b[0;34m(tokenizer, train_path, valid_path, test_path, max_size, max_len)\u001b[0m\n\u001b[1;32m    311\u001b[0m         \u001b[0;31m# Use BERT subword tokenization\u001b[0m\u001b[0;34m\u001b[0m\u001b[0;34m\u001b[0m\u001b[0;34m\u001b[0m\u001b[0m\n\u001b[1;32m    312\u001b[0m         \u001b[0mvocab\u001b[0m \u001b[0;34m=\u001b[0m \u001b[0;32mNone\u001b[0m\u001b[0;34m\u001b[0m\u001b[0;34m\u001b[0m\u001b[0m\n\u001b[0;32m--> 313\u001b[0;31m         \u001b[0mpad_index\u001b[0m \u001b[0;34m=\u001b[0m \u001b[0mtokenizer\u001b[0m\u001b[0;34m.\u001b[0m\u001b[0mconvert_tokens_to_ids\u001b[0m\u001b[0;34m(\u001b[0m\u001b[0mtokenizer\u001b[0m\u001b[0;34m.\u001b[0m\u001b[0mpad_token\u001b[0m\u001b[0;34m)\u001b[0m\u001b[0;34m\u001b[0m\u001b[0;34m\u001b[0m\u001b[0m\n\u001b[0m\u001b[1;32m    314\u001b[0m         fields = [\n\u001b[1;32m    315\u001b[0m             \u001b[0mField\u001b[0m\u001b[0;34m(\u001b[0m\u001b[0;34m\"id\"\u001b[0m\u001b[0;34m)\u001b[0m\u001b[0;34m,\u001b[0m\u001b[0;34m\u001b[0m\u001b[0;34m\u001b[0m\u001b[0m\n",
      "\u001b[0;31mAttributeError\u001b[0m: 'str' object has no attribute 'convert_tokens_to_ids'"
     ]
    }
   ],
   "source": [
    "import torch\n",
    "import numpy\n",
    "from scipy.stats import pearsonr\n",
    "\n",
    "from viz_utils import *\n",
    "from dataloaders import load_imdb, make_iterable\n",
    "\n",
    "\n",
    "(train, val, test), vocab = load_imdb(\n",
    "    \"data/IMDB/train.csv\", \"data/IMDB/dev.csv\", \"data/IMDB/test.csv\", max_len=200\n",
    ")"
   ]
  },
  {
   "cell_type": "code",
   "execution_count": 2,
   "id": "2a6e4af5",
   "metadata": {},
   "outputs": [
    {
     "name": "stderr",
     "output_type": "stream",
     "text": [
      "Using custom data configuration default\n",
      "Reusing dataset trec (/home/jjukic/.cache/huggingface/datasets/trec/default/1.1.0/751da1ab101b8d297a3d6e9c79ee9b0173ff94c4497b75677b59b61d5467a9b9)\n"
     ]
    },
    {
     "data": {
      "application/vnd.jupyter.widget-view+json": {
       "model_id": "2ae02398e378441f824c44446828ec69",
       "version_major": 2,
       "version_minor": 0
      },
      "text/plain": [
       "  0%|          | 0/2 [00:00<?, ?it/s]"
      ]
     },
     "metadata": {},
     "output_type": "display_data"
    },
    {
     "name": "stdout",
     "output_type": "stream",
     "text": [
      "DatasetDict({\n",
      "    train: Dataset({\n",
      "        features: ['label', 'label-fine', 'text'],\n",
      "        num_rows: 5452\n",
      "    })\n",
      "    test: Dataset({\n",
      "        features: ['label', 'label-fine', 'text'],\n",
      "        num_rows: 500\n",
      "    })\n",
      "})\n",
      "Dataset({\n",
      "    size: 4362,\n",
      "    fields: [\n",
      "        Field({\n",
      "            name: 'text',\n",
      "            keep_raw: True,\n",
      "            is_target: False,\n",
      "            vocab: Vocab({specials: ('<UNK>', '<PAD>'), eager: False, is_finalized: True, size: 8202})\n",
      "        }),\n",
      "        LabelField({\n",
      "            name: 'label',\n",
      "            keep_raw: False,\n",
      "            is_target: True,\n",
      "            vocab: Vocab({specials: (), eager: False, is_finalized: True, size: 6})\n",
      "        })\n",
      "    \n",
      "    ]\n",
      "})\n"
     ]
    }
   ],
   "source": [
    "import torch\n",
    "import numpy\n",
    "from scipy.stats import pearsonr\n",
    "\n",
    "from viz_utils import *\n",
    "from dataloaders import load_trec\n",
    "\n",
    "\n",
    "(train, val, test), vocab = load_trec()"
   ]
  },
  {
   "cell_type": "code",
   "execution_count": 9,
   "id": "4aafae77",
   "metadata": {},
   "outputs": [],
   "source": [
    "df = val.to_pandas(include_raw=True)\n",
    "df[\"new_label\"] = df.label == 1\n",
    "df[\"new_label\"] = df[\"new_label\"].astype(int)\n",
    "df = df[[\"text_raw\", \"new_label\"]].rename(columns={\"text_raw\": \"text\", \"new_label\": \"label\"})"
   ]
  },
  {
   "cell_type": "code",
   "execution_count": 10,
   "id": "74132654",
   "metadata": {},
   "outputs": [
    {
     "data": {
      "text/html": [
       "<div>\n",
       "<style scoped>\n",
       "    .dataframe tbody tr th:only-of-type {\n",
       "        vertical-align: middle;\n",
       "    }\n",
       "\n",
       "    .dataframe tbody tr th {\n",
       "        vertical-align: top;\n",
       "    }\n",
       "\n",
       "    .dataframe thead th {\n",
       "        text-align: right;\n",
       "    }\n",
       "</style>\n",
       "<table border=\"1\" class=\"dataframe\">\n",
       "  <thead>\n",
       "    <tr style=\"text-align: right;\">\n",
       "      <th></th>\n",
       "      <th>text</th>\n",
       "      <th>label</th>\n",
       "    </tr>\n",
       "  </thead>\n",
       "  <tbody>\n",
       "    <tr>\n",
       "      <th>0</th>\n",
       "      <td>What are the 7 principles of learning from the...</td>\n",
       "      <td>1</td>\n",
       "    </tr>\n",
       "    <tr>\n",
       "      <th>1</th>\n",
       "      <td>How do you get a pointsettia to turn red ?</td>\n",
       "      <td>0</td>\n",
       "    </tr>\n",
       "    <tr>\n",
       "      <th>2</th>\n",
       "      <td>What California desert is dubbed High Desert ?</td>\n",
       "      <td>0</td>\n",
       "    </tr>\n",
       "    <tr>\n",
       "      <th>3</th>\n",
       "      <td>What are the statistics for drunken drivers in...</td>\n",
       "      <td>0</td>\n",
       "    </tr>\n",
       "    <tr>\n",
       "      <th>4</th>\n",
       "      <td>How do I log on to home page at Headquarters U...</td>\n",
       "      <td>0</td>\n",
       "    </tr>\n",
       "    <tr>\n",
       "      <th>...</th>\n",
       "      <td>...</td>\n",
       "      <td>...</td>\n",
       "    </tr>\n",
       "    <tr>\n",
       "      <th>1085</th>\n",
       "      <td>What chess outcome results when a player has n...</td>\n",
       "      <td>1</td>\n",
       "    </tr>\n",
       "    <tr>\n",
       "      <th>1086</th>\n",
       "      <td>When did the Jurassic Period end ?</td>\n",
       "      <td>0</td>\n",
       "    </tr>\n",
       "    <tr>\n",
       "      <th>1087</th>\n",
       "      <td>What is the normal resting heart rate of a hea...</td>\n",
       "      <td>0</td>\n",
       "    </tr>\n",
       "    <tr>\n",
       "      <th>1088</th>\n",
       "      <td>What singer 's theme song was When the Moon Co...</td>\n",
       "      <td>0</td>\n",
       "    </tr>\n",
       "    <tr>\n",
       "      <th>1089</th>\n",
       "      <td>What is the origin of the candy cane at Christ...</td>\n",
       "      <td>0</td>\n",
       "    </tr>\n",
       "  </tbody>\n",
       "</table>\n",
       "<p>1090 rows × 2 columns</p>\n",
       "</div>"
      ],
      "text/plain": [
       "                                                   text  label\n",
       "0     What are the 7 principles of learning from the...      1\n",
       "1            How do you get a pointsettia to turn red ?      0\n",
       "2        What California desert is dubbed High Desert ?      0\n",
       "3     What are the statistics for drunken drivers in...      0\n",
       "4     How do I log on to home page at Headquarters U...      0\n",
       "...                                                 ...    ...\n",
       "1085  What chess outcome results when a player has n...      1\n",
       "1086                 When did the Jurassic Period end ?      0\n",
       "1087  What is the normal resting heart rate of a hea...      0\n",
       "1088  What singer 's theme song was When the Moon Co...      0\n",
       "1089  What is the origin of the candy cane at Christ...      0\n",
       "\n",
       "[1090 rows x 2 columns]"
      ]
     },
     "execution_count": 10,
     "metadata": {},
     "output_type": "execute_result"
    }
   ],
   "source": [
    "df"
   ]
  },
  {
   "cell_type": "code",
   "execution_count": 11,
   "id": "a2e31a4f",
   "metadata": {},
   "outputs": [],
   "source": [
    "df.to_csv(\"data/TREC/dev.csv\")"
   ]
  },
  {
   "cell_type": "code",
   "execution_count": 7,
   "id": "c5dee8b3",
   "metadata": {},
   "outputs": [],
   "source": [
    "df = train.to_pandas(include_raw=True)"
   ]
  },
  {
   "cell_type": "code",
   "execution_count": 11,
   "id": "51f81b51",
   "metadata": {},
   "outputs": [],
   "source": [
    "df = df.rename(columns={\"text_raw\"})"
   ]
  },
  {
   "cell_type": "code",
   "execution_count": 10,
   "id": "32a27937",
   "metadata": {},
   "outputs": [],
   "source": [
    "df = train.to_pandas(include_raw=True)\n",
    "df[\"new_label\"] = df.label == 1"
   ]
  },
  {
   "cell_type": "code",
   "execution_count": 4,
   "id": "fdb99e9e",
   "metadata": {},
   "outputs": [
    {
     "data": {
      "text/html": [
       "<div>\n",
       "<style scoped>\n",
       "    .dataframe tbody tr th:only-of-type {\n",
       "        vertical-align: middle;\n",
       "    }\n",
       "\n",
       "    .dataframe tbody tr th {\n",
       "        vertical-align: top;\n",
       "    }\n",
       "\n",
       "    .dataframe thead th {\n",
       "        text-align: right;\n",
       "    }\n",
       "</style>\n",
       "<table border=\"1\" class=\"dataframe\">\n",
       "  <thead>\n",
       "    <tr style=\"text-align: right;\">\n",
       "      <th></th>\n",
       "      <th>text</th>\n",
       "      <th>label</th>\n",
       "    </tr>\n",
       "  </thead>\n",
       "  <tbody>\n",
       "    <tr>\n",
       "      <th>0</th>\n",
       "      <td>How many miles is it from NY to Austria ?</td>\n",
       "      <td>0</td>\n",
       "    </tr>\n",
       "    <tr>\n",
       "      <th>1</th>\n",
       "      <td>What do chefs call The Master Spice ?</td>\n",
       "      <td>1</td>\n",
       "    </tr>\n",
       "    <tr>\n",
       "      <th>2</th>\n",
       "      <td>Where is Los Vegas ?</td>\n",
       "      <td>0</td>\n",
       "    </tr>\n",
       "    <tr>\n",
       "      <th>3</th>\n",
       "      <td>Describe the Finnish music personality Salonen...</td>\n",
       "      <td>0</td>\n",
       "    </tr>\n",
       "    <tr>\n",
       "      <th>4</th>\n",
       "      <td>Who was Sherlock Holmes 's archenemy ?</td>\n",
       "      <td>0</td>\n",
       "    </tr>\n",
       "    <tr>\n",
       "      <th>...</th>\n",
       "      <td>...</td>\n",
       "      <td>...</td>\n",
       "    </tr>\n",
       "    <tr>\n",
       "      <th>4357</th>\n",
       "      <td>How do I keep cats out of my flower garden for...</td>\n",
       "      <td>0</td>\n",
       "    </tr>\n",
       "    <tr>\n",
       "      <th>4358</th>\n",
       "      <td>How many airline schools are there in the U.S. ?</td>\n",
       "      <td>0</td>\n",
       "    </tr>\n",
       "    <tr>\n",
       "      <th>4359</th>\n",
       "      <td>How many zeros are there in a trillion ?</td>\n",
       "      <td>0</td>\n",
       "    </tr>\n",
       "    <tr>\n",
       "      <th>4360</th>\n",
       "      <td>What was the backup singing group for Roy Roge...</td>\n",
       "      <td>0</td>\n",
       "    </tr>\n",
       "    <tr>\n",
       "      <th>4361</th>\n",
       "      <td>Who does the advertizing for Frito-Lay ?</td>\n",
       "      <td>0</td>\n",
       "    </tr>\n",
       "  </tbody>\n",
       "</table>\n",
       "<p>4362 rows × 2 columns</p>\n",
       "</div>"
      ],
      "text/plain": [
       "                                                   text  label\n",
       "0             How many miles is it from NY to Austria ?      0\n",
       "1                 What do chefs call The Master Spice ?      1\n",
       "2                                  Where is Los Vegas ?      0\n",
       "3     Describe the Finnish music personality Salonen...      0\n",
       "4                Who was Sherlock Holmes 's archenemy ?      0\n",
       "...                                                 ...    ...\n",
       "4357  How do I keep cats out of my flower garden for...      0\n",
       "4358   How many airline schools are there in the U.S. ?      0\n",
       "4359           How many zeros are there in a trillion ?      0\n",
       "4360  What was the backup singing group for Roy Roge...      0\n",
       "4361           Who does the advertizing for Frito-Lay ?      0\n",
       "\n",
       "[4362 rows x 2 columns]"
      ]
     },
     "execution_count": 4,
     "metadata": {},
     "output_type": "execute_result"
    }
   ],
   "source": [
    "df.to"
   ]
  },
  {
   "cell_type": "code",
   "execution_count": 6,
   "id": "a24f0d57",
   "metadata": {},
   "outputs": [],
   "source": [
    "import torch\n",
    "import numpy\n",
    "from scipy.stats import pearsonr\n",
    "\n",
    "from viz_utils import *\n",
    "from dataloaders import *\n",
    "\n",
    "\n"
   ]
  },
  {
   "cell_type": "code",
   "execution_count": 73,
   "id": "07e47fc2",
   "metadata": {},
   "outputs": [],
   "source": [
    "import numpy as np\n",
    "from podium import Vocab, Field, LabelField, BucketIterator\n",
    "from podium.datasets import TabularDataset, Dataset, ExampleFactory\n",
    "from podium.datasets.hf import HFDatasetConverter\n",
    "from podium.vectorizers import GloVe\n",
    "from podium.datasets.impl import SST\n",
    "\n",
    "\n",
    "def load_sst(tokenizer=None, max_vocab_size=20_000, max_seq_len=200):\n",
    "    if tokenizer is None:\n",
    "        vocab = Vocab(max_size=max_vocab_size)\n",
    "        fields = {\n",
    "            \"text\": Field(\n",
    "                \"text\",\n",
    "                numericalizer=vocab,\n",
    "                include_lengths=True,\n",
    "                keep_raw=True,\n",
    "            ),\n",
    "            \"label\": LabelField(\"label\"),\n",
    "        }\n",
    "    else:\n",
    "        # Use BERT subword tokenization\n",
    "        vocab = None\n",
    "        pad_index = tokenizer.convert_tokens_to_ids(tokenizer.pad_token)\n",
    "        fields = {\n",
    "            \"text\": Field(\n",
    "                \"text\",\n",
    "                tokenizer=tokenizer.tokenize,\n",
    "                padding_token=pad_index,\n",
    "                numericalizer=tokenizer.convert_tokens_to_ids,\n",
    "                include_lengths=True,\n",
    "            ),\n",
    "            \"label\": LabelField(\"label\"),\n",
    "        }\n",
    "    train, val, test = SST.get_dataset_splits(fields=fields)\n",
    "    train.finalize_fields()\n",
    "    return (train, val, test), vocab\n"
   ]
  },
  {
   "cell_type": "code",
   "execution_count": 74,
   "id": "601cb386",
   "metadata": {},
   "outputs": [],
   "source": [
    "(train, val, test), vocab = load_sst()\n",
    "# train = train[train[0].str.split().str.len() >= 3]"
   ]
  },
  {
   "cell_type": "code",
   "execution_count": 13,
   "id": "26f25a60",
   "metadata": {},
   "outputs": [],
   "source": [
    "from podium import Dataset\n",
    "\n",
    "def join_datasets(d1, d2):\n",
    "    examples = d1.examples + d2.examples\n",
    "    dataset = Dataset(examples, d1.fields)\n",
    "    return dataset"
   ]
  },
  {
   "cell_type": "code",
   "execution_count": 16,
   "id": "8a460399",
   "metadata": {},
   "outputs": [
    {
     "data": {
      "text/plain": [
       "SST({\n",
       "    size: 872,\n",
       "    fields: [\n",
       "        Field({\n",
       "            name: 'text',\n",
       "            keep_raw: True,\n",
       "            is_target: False,\n",
       "            vocab: Vocab({specials: ('<UNK>', '<PAD>'), eager: False, is_finalized: True, size: 16284})\n",
       "        }),\n",
       "        LabelField({\n",
       "            name: 'label',\n",
       "            keep_raw: False,\n",
       "            is_target: True,\n",
       "            vocab: Vocab({specials: (), eager: False, is_finalized: True, size: 2})\n",
       "        })\n",
       "    \n",
       "    ]\n",
       "})"
      ]
     },
     "execution_count": 16,
     "metadata": {},
     "output_type": "execute_result"
    }
   ],
   "source": [
    "val"
   ]
  },
  {
   "cell_type": "code",
   "execution_count": 81,
   "id": "c7861a90",
   "metadata": {},
   "outputs": [
    {
     "data": {
      "text/plain": [
       "SST({\n",
       "    size: 6920,\n",
       "    fields: [\n",
       "        Field({\n",
       "            name: 'text',\n",
       "            keep_raw: True,\n",
       "            is_target: False,\n",
       "            vocab: Vocab({specials: ('<UNK>', '<PAD>'), eager: False, is_finalized: True, size: 16284})\n",
       "        }),\n",
       "        LabelField({\n",
       "            name: 'label',\n",
       "            keep_raw: False,\n",
       "            is_target: True,\n",
       "            vocab: Vocab({specials: (), eager: False, is_finalized: True, size: 2})\n",
       "        })\n",
       "    \n",
       "    ]\n",
       "})"
      ]
     },
     "execution_count": 81,
     "metadata": {},
     "output_type": "execute_result"
    }
   ],
   "source": [
    "train"
   ]
  },
  {
   "cell_type": "code",
   "execution_count": 82,
   "id": "b9922b1a",
   "metadata": {},
   "outputs": [],
   "source": [
    "train_df = train.to_pandas(include_raw=True)[[\"text_raw\", \"label\"]]\n",
    "dev_df = val.to_pandas(include_raw=True)[[\"text_raw\", \"label\"]]\n",
    "test_df = test.to_pandas(include_raw=True)[[\"text_raw\", \"label\"]]"
   ]
  },
  {
   "cell_type": "code",
   "execution_count": 83,
   "id": "5a1672e9",
   "metadata": {},
   "outputs": [],
   "source": [
    "train_df = train_df[train_df[\"text_raw\"].str.split().str.len() >= 3].reset_index()\n",
    "del train_df[\"index\"]"
   ]
  },
  {
   "cell_type": "code",
   "execution_count": 84,
   "id": "cc5dafc5",
   "metadata": {},
   "outputs": [],
   "source": [
    "test_df = test_df[test_df[\"text_raw\"].str.split().str.len() >= 3].reset_index()\n",
    "del test_df[\"index\"]\n"
   ]
  },
  {
   "cell_type": "code",
   "execution_count": 85,
   "id": "a0445f4f",
   "metadata": {},
   "outputs": [],
   "source": [
    "dev_df = dev_df[dev_df[\"text_raw\"].str.split().str.len() >= 3].reset_index()\n",
    "del dev_df[\"index\"]\n"
   ]
  },
  {
   "cell_type": "code",
   "execution_count": 86,
   "id": "7fb4c2c3",
   "metadata": {},
   "outputs": [],
   "source": [
    "train_df = train_df.rename(columns={\"text_raw\": \"text\"})\n",
    "test_df = test_df.rename(columns={\"text_raw\": \"text\"})\n",
    "dev_df = dev_df.rename(columns={\"text_raw\": \"text\"})"
   ]
  },
  {
   "cell_type": "code",
   "execution_count": 87,
   "id": "a4d7cd8b",
   "metadata": {},
   "outputs": [],
   "source": [
    "train_df.to_csv(\"data/SST_podium/train.csv\", header=False)\n",
    "dev_df.to_csv(\"data/SST_podium/dev.csv\", header=False)\n",
    "test_df.to_csv(\"data/SST_podium/test.csv\", header=False)"
   ]
  },
  {
   "cell_type": "code",
   "execution_count": null,
   "id": "4b952f80",
   "metadata": {},
   "outputs": [],
   "source": [
    "device = torch.device(\"cpu\")\n",
    "test_iter = make_iterable(test, device, batch_size=1)\n",
    "lengths = np.array([b.text[1].item() for b in test_iter])"
   ]
  },
  {
   "cell_type": "code",
   "execution_count": 75,
   "id": "8eee2749",
   "metadata": {},
   "outputs": [],
   "source": [
    "experiments, meta = load_results(base_dir=\"results/\", dataset=\"IMDB\", model=\"JWA\")\n",
    "samplers = list(experiments.keys())\n",
    "df_tr, df_agr, df_crt_train, df_crt_test = results_to_df(experiments, meta, mode=\"last\")"
   ]
  },
  {
   "cell_type": "code",
   "execution_count": 76,
   "id": "b93102b4",
   "metadata": {},
   "outputs": [
    {
     "data": {
      "text/html": [
       "<div>\n",
       "<style scoped>\n",
       "    .dataframe tbody tr th:only-of-type {\n",
       "        vertical-align: middle;\n",
       "    }\n",
       "\n",
       "    .dataframe tbody tr th {\n",
       "        vertical-align: top;\n",
       "    }\n",
       "\n",
       "    .dataframe thead th {\n",
       "        text-align: right;\n",
       "    }\n",
       "</style>\n",
       "<table border=\"1\" class=\"dataframe\">\n",
       "  <thead>\n",
       "    <tr style=\"text-align: right;\">\n",
       "      <th></th>\n",
       "      <th></th>\n",
       "      <th>correctness</th>\n",
       "      <th>confidence</th>\n",
       "      <th>variability</th>\n",
       "      <th>forgetfulness</th>\n",
       "      <th>threshold_closeness</th>\n",
       "      <th>mode</th>\n",
       "    </tr>\n",
       "    <tr>\n",
       "      <th>sampler</th>\n",
       "      <th>al_iter</th>\n",
       "      <th></th>\n",
       "      <th></th>\n",
       "      <th></th>\n",
       "      <th></th>\n",
       "      <th></th>\n",
       "      <th></th>\n",
       "    </tr>\n",
       "  </thead>\n",
       "  <tbody>\n",
       "    <tr>\n",
       "      <th rowspan=\"17\" valign=\"top\">random</th>\n",
       "      <th>0</th>\n",
       "      <td>[5.0, 3.0, 1.0, 5.0, 5.0, 1.0, 3.0, 3.0, 3.0, ...</td>\n",
       "      <td>[0.78283894, 0.58848107, 0.42616972, 0.8304529...</td>\n",
       "      <td>[0.17009637, 0.2580752, 0.25123364, 0.15298496...</td>\n",
       "      <td>[0.0, 0.0, 1.0, 0.0, 0.0, 1.0, 1.0, 0.0, 1.0, ...</td>\n",
       "      <td>[0.16789195, 0.21469167, 0.22605653, 0.1398472...</td>\n",
       "      <td>test</td>\n",
       "    </tr>\n",
       "    <tr>\n",
       "      <th>1</th>\n",
       "      <td>[5.0, 4.0, 4.0, 5.0, 5.0, 4.0, 4.0, 4.0, 2.0, ...</td>\n",
       "      <td>[0.84998, 0.6993078, 0.65893674, 0.91358435, 0...</td>\n",
       "      <td>[0.13170633, 0.25117576, 0.31623322, 0.1073726...</td>\n",
       "      <td>[0.0, 1.0, 1.0, 0.0, 0.0, 0.0, 0.0, 0.0, 1.0, ...</td>\n",
       "      <td>[0.122079656, 0.19543508, 0.21681154, 0.078470...</td>\n",
       "      <td>test</td>\n",
       "    </tr>\n",
       "    <tr>\n",
       "      <th>2</th>\n",
       "      <td>[5.0, 4.0, 4.0, 5.0, 5.0, 3.0, 4.0, 3.0, 1.0, ...</td>\n",
       "      <td>[0.8637884, 0.6877877, 0.7051008, 0.94550276, ...</td>\n",
       "      <td>[0.14705713, 0.26753086, 0.29151422, 0.0617347...</td>\n",
       "      <td>[0.0, 0.0, 0.0, 0.0, 0.0, 1.0, 0.0, 1.0, 1.0, ...</td>\n",
       "      <td>[0.1093572, 0.19006371, 0.18729672, 0.05058468...</td>\n",
       "      <td>test</td>\n",
       "    </tr>\n",
       "    <tr>\n",
       "      <th>3</th>\n",
       "      <td>[4.0, 5.0, 5.0, 5.0, 5.0, 4.0, 5.0, 4.0, 0.0, ...</td>\n",
       "      <td>[0.78916276, 0.8993479, 0.85253716, 0.92883694...</td>\n",
       "      <td>[0.2032645, 0.11721138, 0.2049385, 0.07309772,...</td>\n",
       "      <td>[1.0, 0.0, 0.0, 0.0, 0.0, 0.0, 0.0, 0.0, 1000....</td>\n",
       "      <td>[0.14312878, 0.08801812, 0.120580696, 0.058706...</td>\n",
       "      <td>test</td>\n",
       "    </tr>\n",
       "    <tr>\n",
       "      <th>4</th>\n",
       "      <td>[5.0, 5.0, 5.0, 5.0, 5.0, 5.0, 5.0, 5.0, 0.0, ...</td>\n",
       "      <td>[0.8375348, 0.894714, 0.9135955, 0.90790576, 0...</td>\n",
       "      <td>[0.17550012, 0.11349908, 0.13063577, 0.1452678...</td>\n",
       "      <td>[0.0, 0.0, 0.0, 0.0, 0.0, 0.0, 0.0, 0.0, 1000....</td>\n",
       "      <td>[0.12281082, 0.0845276, 0.07746866, 0.07869567...</td>\n",
       "      <td>test</td>\n",
       "    </tr>\n",
       "    <tr>\n",
       "      <th>5</th>\n",
       "      <td>[5.0, 5.0, 5.0, 5.0, 4.0, 4.0, 5.0, 4.0, 0.0, ...</td>\n",
       "      <td>[0.89609575, 0.89621735, 0.90910304, 0.9033942...</td>\n",
       "      <td>[0.13641648, 0.08994673, 0.17029877, 0.1062847...</td>\n",
       "      <td>[0.0, 0.0, 0.0, 0.0, 1.0, 0.0, 0.0, 1.0, 1000....</td>\n",
       "      <td>[0.08717016, 0.08776273, 0.08121039, 0.0713387...</td>\n",
       "      <td>test</td>\n",
       "    </tr>\n",
       "    <tr>\n",
       "      <th>6</th>\n",
       "      <td>[5.0, 5.0, 5.0, 5.0, 5.0, 5.0, 5.0, 4.0, 0.0, ...</td>\n",
       "      <td>[0.81657904, 0.91248256, 0.9561507, 0.8539902,...</td>\n",
       "      <td>[0.21104053, 0.09875934, 0.07940291, 0.1734080...</td>\n",
       "      <td>[0.0, 0.0, 0.0, 0.0, 0.0, 0.0, 0.0, 1.0, 1000....</td>\n",
       "      <td>[0.13317013, 0.07578596, 0.041140646, 0.104003...</td>\n",
       "      <td>test</td>\n",
       "    </tr>\n",
       "    <tr>\n",
       "      <th>7</th>\n",
       "      <td>[5.0, 5.0, 5.0, 5.0, 5.0, 5.0, 5.0, 4.0, 0.0, ...</td>\n",
       "      <td>[0.8620178, 0.9067441, 0.9304037, 0.9061612, 0...</td>\n",
       "      <td>[0.13242742, 0.12119822, 0.11698113, 0.0974357...</td>\n",
       "      <td>[0.0, 0.0, 0.0, 0.0, 0.0, 0.0, 0.0, 1.0, 1000....</td>\n",
       "      <td>[0.10312893, 0.07520597, 0.061201464, 0.068332...</td>\n",
       "      <td>test</td>\n",
       "    </tr>\n",
       "    <tr>\n",
       "      <th>8</th>\n",
       "      <td>[5.0, 5.0, 5.0, 5.0, 5.0, 5.0, 5.0, 5.0, 0.0, ...</td>\n",
       "      <td>[0.86823446, 0.8439263, 0.92796814, 0.92397976...</td>\n",
       "      <td>[0.17705128, 0.1423392, 0.106700465, 0.0965236...</td>\n",
       "      <td>[0.0, 0.0, 0.0, 0.0, 0.0, 0.0, 0.0, 0.0, 1000....</td>\n",
       "      <td>[0.1065735, 0.12127571, 0.06194217, 0.06695383...</td>\n",
       "      <td>test</td>\n",
       "    </tr>\n",
       "    <tr>\n",
       "      <th>9</th>\n",
       "      <td>[5.0, 5.0, 5.0, 5.0, 5.0, 5.0, 5.0, 5.0, 0.0, ...</td>\n",
       "      <td>[0.86930275, 0.9459759, 0.9834305, 0.91378677,...</td>\n",
       "      <td>[0.07643037, 0.06524582, 0.029595202, 0.077918...</td>\n",
       "      <td>[0.0, 0.0, 0.0, 0.0, 0.0, 0.0, 0.0, 0.0, 1000....</td>\n",
       "      <td>[0.11135874, 0.05068189, 0.01627402, 0.0727905...</td>\n",
       "      <td>test</td>\n",
       "    </tr>\n",
       "    <tr>\n",
       "      <th>10</th>\n",
       "      <td>[5.0, 5.0, 5.0, 5.0, 5.0, 5.0, 5.0, 4.0, 0.0, ...</td>\n",
       "      <td>[0.881827, 0.8935772, 0.97971994, 0.93271554, ...</td>\n",
       "      <td>[0.13177201, 0.12107883, 0.03653954, 0.0928087...</td>\n",
       "      <td>[0.0, 0.0, 0.0, 0.0, 0.0, 0.0, 0.0, 1.0, 1000....</td>\n",
       "      <td>[0.10079704, 0.09255068, 0.019840587, 0.059705...</td>\n",
       "      <td>test</td>\n",
       "    </tr>\n",
       "    <tr>\n",
       "      <th>11</th>\n",
       "      <td>[5.0, 5.0, 5.0, 5.0, 5.0, 5.0, 5.0, 5.0, 0.0, ...</td>\n",
       "      <td>[0.9340601, 0.8846282, 0.96369267, 0.9313241, ...</td>\n",
       "      <td>[0.064061366, 0.12324003, 0.05600844, 0.103032...</td>\n",
       "      <td>[0.0, 0.0, 0.0, 0.0, 0.0, 0.0, 0.0, 0.0, 1000....</td>\n",
       "      <td>[0.060631, 0.09963928, 0.0346014, 0.060130484,...</td>\n",
       "      <td>test</td>\n",
       "    </tr>\n",
       "    <tr>\n",
       "      <th>12</th>\n",
       "      <td>[5.0, 5.0, 5.0, 5.0, 5.0, 5.0, 5.0, 5.0, 0.0, ...</td>\n",
       "      <td>[0.87246734, 0.94593275, 0.9820895, 0.9344882,...</td>\n",
       "      <td>[0.13323912, 0.047539033, 0.024653811, 0.06136...</td>\n",
       "      <td>[0.0, 0.0, 0.0, 0.0, 0.0, 0.0, 0.0, 0.0, 1000....</td>\n",
       "      <td>[0.110685945, 0.05069071, 0.01753768, 0.060246...</td>\n",
       "      <td>test</td>\n",
       "    </tr>\n",
       "    <tr>\n",
       "      <th>13</th>\n",
       "      <td>[5.0, 5.0, 5.0, 5.0, 5.0, 5.0, 5.0, 3.0, 0.0, ...</td>\n",
       "      <td>[0.9333574, 0.8824846, 0.98008394, 0.8832699, ...</td>\n",
       "      <td>[0.06353353, 0.15532187, 0.03581069, 0.1252086...</td>\n",
       "      <td>[0.0, 0.0, 0.0, 0.0, 0.0, 0.0, 0.0, 1.0, 1000....</td>\n",
       "      <td>[0.059635323, 0.10164046, 0.019435542, 0.08890...</td>\n",
       "      <td>test</td>\n",
       "    </tr>\n",
       "    <tr>\n",
       "      <th>14</th>\n",
       "      <td>[5.0, 5.0, 5.0, 5.0, 5.0, 5.0, 4.0, 4.0, 0.0, ...</td>\n",
       "      <td>[0.9475214, 0.8615546, 0.9767693, 0.8788087, 0...</td>\n",
       "      <td>[0.049171694, 0.17564903, 0.038364924, 0.13747...</td>\n",
       "      <td>[0.0, 0.0, 0.0, 0.0, 0.0, 0.0, 1.0, 1.0, 1000....</td>\n",
       "      <td>[0.04891385, 0.11593108, 0.022646537, 0.100025...</td>\n",
       "      <td>test</td>\n",
       "    </tr>\n",
       "    <tr>\n",
       "      <th>15</th>\n",
       "      <td>[5.0, 5.0, 5.0, 5.0, 5.0, 5.0, 4.0, 4.0, 0.0, ...</td>\n",
       "      <td>[0.93444335, 0.9247114, 0.99047136, 0.9139802,...</td>\n",
       "      <td>[0.08761884, 0.083593965, 0.015219989, 0.08994...</td>\n",
       "      <td>[0.0, 0.0, 0.0, 0.0, 0.0, 0.0, 1.0, 1.0, 1000....</td>\n",
       "      <td>[0.06085684, 0.069202065, 0.0094350325, 0.0756...</td>\n",
       "      <td>test</td>\n",
       "    </tr>\n",
       "    <tr>\n",
       "      <th>16</th>\n",
       "      <td>[5.0, 5.0, 5.0, 5.0, 5.0, 5.0, 5.0, 2.0, 0.0, ...</td>\n",
       "      <td>[0.91954917, 0.9492261, 0.9853799, 0.8625496, ...</td>\n",
       "      <td>[0.09207666, 0.077664495, 0.025724407, 0.18750...</td>\n",
       "      <td>[0.0, 0.0, 0.0, 0.0, 0.0, 0.0, 0.0, 1.0, 1000....</td>\n",
       "      <td>[0.072730854, 0.048132658, 0.014400899, 0.1150...</td>\n",
       "      <td>test</td>\n",
       "    </tr>\n",
       "  </tbody>\n",
       "</table>\n",
       "</div>"
      ],
      "text/plain": [
       "                                                       correctness  \\\n",
       "sampler al_iter                                                      \n",
       "random  0        [5.0, 3.0, 1.0, 5.0, 5.0, 1.0, 3.0, 3.0, 3.0, ...   \n",
       "        1        [5.0, 4.0, 4.0, 5.0, 5.0, 4.0, 4.0, 4.0, 2.0, ...   \n",
       "        2        [5.0, 4.0, 4.0, 5.0, 5.0, 3.0, 4.0, 3.0, 1.0, ...   \n",
       "        3        [4.0, 5.0, 5.0, 5.0, 5.0, 4.0, 5.0, 4.0, 0.0, ...   \n",
       "        4        [5.0, 5.0, 5.0, 5.0, 5.0, 5.0, 5.0, 5.0, 0.0, ...   \n",
       "        5        [5.0, 5.0, 5.0, 5.0, 4.0, 4.0, 5.0, 4.0, 0.0, ...   \n",
       "        6        [5.0, 5.0, 5.0, 5.0, 5.0, 5.0, 5.0, 4.0, 0.0, ...   \n",
       "        7        [5.0, 5.0, 5.0, 5.0, 5.0, 5.0, 5.0, 4.0, 0.0, ...   \n",
       "        8        [5.0, 5.0, 5.0, 5.0, 5.0, 5.0, 5.0, 5.0, 0.0, ...   \n",
       "        9        [5.0, 5.0, 5.0, 5.0, 5.0, 5.0, 5.0, 5.0, 0.0, ...   \n",
       "        10       [5.0, 5.0, 5.0, 5.0, 5.0, 5.0, 5.0, 4.0, 0.0, ...   \n",
       "        11       [5.0, 5.0, 5.0, 5.0, 5.0, 5.0, 5.0, 5.0, 0.0, ...   \n",
       "        12       [5.0, 5.0, 5.0, 5.0, 5.0, 5.0, 5.0, 5.0, 0.0, ...   \n",
       "        13       [5.0, 5.0, 5.0, 5.0, 5.0, 5.0, 5.0, 3.0, 0.0, ...   \n",
       "        14       [5.0, 5.0, 5.0, 5.0, 5.0, 5.0, 4.0, 4.0, 0.0, ...   \n",
       "        15       [5.0, 5.0, 5.0, 5.0, 5.0, 5.0, 4.0, 4.0, 0.0, ...   \n",
       "        16       [5.0, 5.0, 5.0, 5.0, 5.0, 5.0, 5.0, 2.0, 0.0, ...   \n",
       "\n",
       "                                                        confidence  \\\n",
       "sampler al_iter                                                      \n",
       "random  0        [0.78283894, 0.58848107, 0.42616972, 0.8304529...   \n",
       "        1        [0.84998, 0.6993078, 0.65893674, 0.91358435, 0...   \n",
       "        2        [0.8637884, 0.6877877, 0.7051008, 0.94550276, ...   \n",
       "        3        [0.78916276, 0.8993479, 0.85253716, 0.92883694...   \n",
       "        4        [0.8375348, 0.894714, 0.9135955, 0.90790576, 0...   \n",
       "        5        [0.89609575, 0.89621735, 0.90910304, 0.9033942...   \n",
       "        6        [0.81657904, 0.91248256, 0.9561507, 0.8539902,...   \n",
       "        7        [0.8620178, 0.9067441, 0.9304037, 0.9061612, 0...   \n",
       "        8        [0.86823446, 0.8439263, 0.92796814, 0.92397976...   \n",
       "        9        [0.86930275, 0.9459759, 0.9834305, 0.91378677,...   \n",
       "        10       [0.881827, 0.8935772, 0.97971994, 0.93271554, ...   \n",
       "        11       [0.9340601, 0.8846282, 0.96369267, 0.9313241, ...   \n",
       "        12       [0.87246734, 0.94593275, 0.9820895, 0.9344882,...   \n",
       "        13       [0.9333574, 0.8824846, 0.98008394, 0.8832699, ...   \n",
       "        14       [0.9475214, 0.8615546, 0.9767693, 0.8788087, 0...   \n",
       "        15       [0.93444335, 0.9247114, 0.99047136, 0.9139802,...   \n",
       "        16       [0.91954917, 0.9492261, 0.9853799, 0.8625496, ...   \n",
       "\n",
       "                                                       variability  \\\n",
       "sampler al_iter                                                      \n",
       "random  0        [0.17009637, 0.2580752, 0.25123364, 0.15298496...   \n",
       "        1        [0.13170633, 0.25117576, 0.31623322, 0.1073726...   \n",
       "        2        [0.14705713, 0.26753086, 0.29151422, 0.0617347...   \n",
       "        3        [0.2032645, 0.11721138, 0.2049385, 0.07309772,...   \n",
       "        4        [0.17550012, 0.11349908, 0.13063577, 0.1452678...   \n",
       "        5        [0.13641648, 0.08994673, 0.17029877, 0.1062847...   \n",
       "        6        [0.21104053, 0.09875934, 0.07940291, 0.1734080...   \n",
       "        7        [0.13242742, 0.12119822, 0.11698113, 0.0974357...   \n",
       "        8        [0.17705128, 0.1423392, 0.106700465, 0.0965236...   \n",
       "        9        [0.07643037, 0.06524582, 0.029595202, 0.077918...   \n",
       "        10       [0.13177201, 0.12107883, 0.03653954, 0.0928087...   \n",
       "        11       [0.064061366, 0.12324003, 0.05600844, 0.103032...   \n",
       "        12       [0.13323912, 0.047539033, 0.024653811, 0.06136...   \n",
       "        13       [0.06353353, 0.15532187, 0.03581069, 0.1252086...   \n",
       "        14       [0.049171694, 0.17564903, 0.038364924, 0.13747...   \n",
       "        15       [0.08761884, 0.083593965, 0.015219989, 0.08994...   \n",
       "        16       [0.09207666, 0.077664495, 0.025724407, 0.18750...   \n",
       "\n",
       "                                                     forgetfulness  \\\n",
       "sampler al_iter                                                      \n",
       "random  0        [0.0, 0.0, 1.0, 0.0, 0.0, 1.0, 1.0, 0.0, 1.0, ...   \n",
       "        1        [0.0, 1.0, 1.0, 0.0, 0.0, 0.0, 0.0, 0.0, 1.0, ...   \n",
       "        2        [0.0, 0.0, 0.0, 0.0, 0.0, 1.0, 0.0, 1.0, 1.0, ...   \n",
       "        3        [1.0, 0.0, 0.0, 0.0, 0.0, 0.0, 0.0, 0.0, 1000....   \n",
       "        4        [0.0, 0.0, 0.0, 0.0, 0.0, 0.0, 0.0, 0.0, 1000....   \n",
       "        5        [0.0, 0.0, 0.0, 0.0, 1.0, 0.0, 0.0, 1.0, 1000....   \n",
       "        6        [0.0, 0.0, 0.0, 0.0, 0.0, 0.0, 0.0, 1.0, 1000....   \n",
       "        7        [0.0, 0.0, 0.0, 0.0, 0.0, 0.0, 0.0, 1.0, 1000....   \n",
       "        8        [0.0, 0.0, 0.0, 0.0, 0.0, 0.0, 0.0, 0.0, 1000....   \n",
       "        9        [0.0, 0.0, 0.0, 0.0, 0.0, 0.0, 0.0, 0.0, 1000....   \n",
       "        10       [0.0, 0.0, 0.0, 0.0, 0.0, 0.0, 0.0, 1.0, 1000....   \n",
       "        11       [0.0, 0.0, 0.0, 0.0, 0.0, 0.0, 0.0, 0.0, 1000....   \n",
       "        12       [0.0, 0.0, 0.0, 0.0, 0.0, 0.0, 0.0, 0.0, 1000....   \n",
       "        13       [0.0, 0.0, 0.0, 0.0, 0.0, 0.0, 0.0, 1.0, 1000....   \n",
       "        14       [0.0, 0.0, 0.0, 0.0, 0.0, 0.0, 1.0, 1.0, 1000....   \n",
       "        15       [0.0, 0.0, 0.0, 0.0, 0.0, 0.0, 1.0, 1.0, 1000....   \n",
       "        16       [0.0, 0.0, 0.0, 0.0, 0.0, 0.0, 0.0, 1.0, 1000....   \n",
       "\n",
       "                                               threshold_closeness  mode  \n",
       "sampler al_iter                                                           \n",
       "random  0        [0.16789195, 0.21469167, 0.22605653, 0.1398472...  test  \n",
       "        1        [0.122079656, 0.19543508, 0.21681154, 0.078470...  test  \n",
       "        2        [0.1093572, 0.19006371, 0.18729672, 0.05058468...  test  \n",
       "        3        [0.14312878, 0.08801812, 0.120580696, 0.058706...  test  \n",
       "        4        [0.12281082, 0.0845276, 0.07746866, 0.07869567...  test  \n",
       "        5        [0.08717016, 0.08776273, 0.08121039, 0.0713387...  test  \n",
       "        6        [0.13317013, 0.07578596, 0.041140646, 0.104003...  test  \n",
       "        7        [0.10312893, 0.07520597, 0.061201464, 0.068332...  test  \n",
       "        8        [0.1065735, 0.12127571, 0.06194217, 0.06695383...  test  \n",
       "        9        [0.11135874, 0.05068189, 0.01627402, 0.0727905...  test  \n",
       "        10       [0.10079704, 0.09255068, 0.019840587, 0.059705...  test  \n",
       "        11       [0.060631, 0.09963928, 0.0346014, 0.060130484,...  test  \n",
       "        12       [0.110685945, 0.05069071, 0.01753768, 0.060246...  test  \n",
       "        13       [0.059635323, 0.10164046, 0.019435542, 0.08890...  test  \n",
       "        14       [0.04891385, 0.11593108, 0.022646537, 0.100025...  test  \n",
       "        15       [0.06085684, 0.069202065, 0.0094350325, 0.0756...  test  \n",
       "        16       [0.072730854, 0.048132658, 0.014400899, 0.1150...  test  "
      ]
     },
     "execution_count": 76,
     "metadata": {},
     "output_type": "execute_result"
    }
   ],
   "source": [
    "df_crt_test[\"mode\"] = \"test\"\n",
    "df_crt_test"
   ]
  },
  {
   "cell_type": "code",
   "execution_count": 77,
   "id": "86f24915",
   "metadata": {},
   "outputs": [
    {
     "data": {
      "text/html": [
       "<div>\n",
       "<style scoped>\n",
       "    .dataframe tbody tr th:only-of-type {\n",
       "        vertical-align: middle;\n",
       "    }\n",
       "\n",
       "    .dataframe tbody tr th {\n",
       "        vertical-align: top;\n",
       "    }\n",
       "\n",
       "    .dataframe thead th {\n",
       "        text-align: right;\n",
       "    }\n",
       "</style>\n",
       "<table border=\"1\" class=\"dataframe\">\n",
       "  <thead>\n",
       "    <tr style=\"text-align: right;\">\n",
       "      <th></th>\n",
       "      <th>experiment</th>\n",
       "      <th>al_iter</th>\n",
       "      <th>labeled</th>\n",
       "      <th>train_loss</th>\n",
       "      <th>test_accuracy</th>\n",
       "      <th>sampler</th>\n",
       "      <th>interpreter</th>\n",
       "      <th>agreement</th>\n",
       "    </tr>\n",
       "  </thead>\n",
       "  <tbody>\n",
       "    <tr>\n",
       "      <th>0</th>\n",
       "      <td>0</td>\n",
       "      <td>0</td>\n",
       "      <td>1000</td>\n",
       "      <td>0.000478</td>\n",
       "      <td>0.793491</td>\n",
       "      <td>random</td>\n",
       "      <td>(deeplift, grad-shap)</td>\n",
       "      <td>0.479056</td>\n",
       "    </tr>\n",
       "    <tr>\n",
       "      <th>1</th>\n",
       "      <td>0</td>\n",
       "      <td>1</td>\n",
       "      <td>2000</td>\n",
       "      <td>0.000613</td>\n",
       "      <td>0.827642</td>\n",
       "      <td>random</td>\n",
       "      <td>(deeplift, grad-shap)</td>\n",
       "      <td>0.393933</td>\n",
       "    </tr>\n",
       "    <tr>\n",
       "      <th>2</th>\n",
       "      <td>0</td>\n",
       "      <td>2</td>\n",
       "      <td>3000</td>\n",
       "      <td>0.000455</td>\n",
       "      <td>0.837726</td>\n",
       "      <td>random</td>\n",
       "      <td>(deeplift, grad-shap)</td>\n",
       "      <td>0.371958</td>\n",
       "    </tr>\n",
       "    <tr>\n",
       "      <th>3</th>\n",
       "      <td>0</td>\n",
       "      <td>3</td>\n",
       "      <td>4000</td>\n",
       "      <td>0.000773</td>\n",
       "      <td>0.851708</td>\n",
       "      <td>random</td>\n",
       "      <td>(deeplift, grad-shap)</td>\n",
       "      <td>0.359864</td>\n",
       "    </tr>\n",
       "    <tr>\n",
       "      <th>4</th>\n",
       "      <td>0</td>\n",
       "      <td>4</td>\n",
       "      <td>5000</td>\n",
       "      <td>0.000599</td>\n",
       "      <td>0.839560</td>\n",
       "      <td>random</td>\n",
       "      <td>(deeplift, grad-shap)</td>\n",
       "      <td>0.299011</td>\n",
       "    </tr>\n",
       "    <tr>\n",
       "      <th>...</th>\n",
       "      <td>...</td>\n",
       "      <td>...</td>\n",
       "      <td>...</td>\n",
       "      <td>...</td>\n",
       "      <td>...</td>\n",
       "      <td>...</td>\n",
       "      <td>...</td>\n",
       "      <td>...</td>\n",
       "    </tr>\n",
       "    <tr>\n",
       "      <th>80</th>\n",
       "      <td>4</td>\n",
       "      <td>12</td>\n",
       "      <td>13000</td>\n",
       "      <td>0.000635</td>\n",
       "      <td>0.851020</td>\n",
       "      <td>random</td>\n",
       "      <td>(deeplift, grad-shap)</td>\n",
       "      <td>0.477074</td>\n",
       "    </tr>\n",
       "    <tr>\n",
       "      <th>81</th>\n",
       "      <td>4</td>\n",
       "      <td>13</td>\n",
       "      <td>14000</td>\n",
       "      <td>0.000748</td>\n",
       "      <td>0.870502</td>\n",
       "      <td>random</td>\n",
       "      <td>(deeplift, grad-shap)</td>\n",
       "      <td>0.477458</td>\n",
       "    </tr>\n",
       "    <tr>\n",
       "      <th>82</th>\n",
       "      <td>4</td>\n",
       "      <td>14</td>\n",
       "      <td>15000</td>\n",
       "      <td>0.000832</td>\n",
       "      <td>0.864084</td>\n",
       "      <td>random</td>\n",
       "      <td>(deeplift, grad-shap)</td>\n",
       "      <td>0.466664</td>\n",
       "    </tr>\n",
       "    <tr>\n",
       "      <th>83</th>\n",
       "      <td>4</td>\n",
       "      <td>15</td>\n",
       "      <td>16000</td>\n",
       "      <td>0.000704</td>\n",
       "      <td>0.866606</td>\n",
       "      <td>random</td>\n",
       "      <td>(deeplift, grad-shap)</td>\n",
       "      <td>0.459473</td>\n",
       "    </tr>\n",
       "    <tr>\n",
       "      <th>84</th>\n",
       "      <td>4</td>\n",
       "      <td>16</td>\n",
       "      <td>17000</td>\n",
       "      <td>0.001074</td>\n",
       "      <td>0.864084</td>\n",
       "      <td>random</td>\n",
       "      <td>(deeplift, grad-shap)</td>\n",
       "      <td>0.425766</td>\n",
       "    </tr>\n",
       "  </tbody>\n",
       "</table>\n",
       "<p>85 rows × 8 columns</p>\n",
       "</div>"
      ],
      "text/plain": [
       "    experiment  al_iter  labeled  train_loss  test_accuracy sampler  \\\n",
       "0            0        0     1000    0.000478       0.793491  random   \n",
       "1            0        1     2000    0.000613       0.827642  random   \n",
       "2            0        2     3000    0.000455       0.837726  random   \n",
       "3            0        3     4000    0.000773       0.851708  random   \n",
       "4            0        4     5000    0.000599       0.839560  random   \n",
       "..         ...      ...      ...         ...            ...     ...   \n",
       "80           4       12    13000    0.000635       0.851020  random   \n",
       "81           4       13    14000    0.000748       0.870502  random   \n",
       "82           4       14    15000    0.000832       0.864084  random   \n",
       "83           4       15    16000    0.000704       0.866606  random   \n",
       "84           4       16    17000    0.001074       0.864084  random   \n",
       "\n",
       "              interpreter  agreement  \n",
       "0   (deeplift, grad-shap)   0.479056  \n",
       "1   (deeplift, grad-shap)   0.393933  \n",
       "2   (deeplift, grad-shap)   0.371958  \n",
       "3   (deeplift, grad-shap)   0.359864  \n",
       "4   (deeplift, grad-shap)   0.299011  \n",
       "..                    ...        ...  \n",
       "80  (deeplift, grad-shap)   0.477074  \n",
       "81  (deeplift, grad-shap)   0.477458  \n",
       "82  (deeplift, grad-shap)   0.466664  \n",
       "83  (deeplift, grad-shap)   0.459473  \n",
       "84  (deeplift, grad-shap)   0.425766  \n",
       "\n",
       "[85 rows x 8 columns]"
      ]
     },
     "execution_count": 77,
     "metadata": {},
     "output_type": "execute_result"
    }
   ],
   "source": [
    "df_tr.reset_index().merge(df_agr.reset_index(), how=\"outer\")"
   ]
  },
  {
   "cell_type": "code",
   "execution_count": 82,
   "id": "5278f1b1",
   "metadata": {},
   "outputs": [
    {
     "name": "stdout",
     "output_type": "stream",
     "text": [
      "Correctness vs. Agreement = (-0.056863037497474976, 0.00017131851915114254)\n",
      "Confidence vs. Agreement = (-0.07549197804580023, 5.970524657390969e-07)\n",
      "Variability vs. Agreement = (0.11780471234503823, 5.888150828564244e-15)\n",
      "Forgetfulness vs. Agreement = (0.025358300784053975, 0.09397712630432788)\n",
      "Threshold vs. Agreement = (0.1180455682624643, 5.182822688013203e-15)\n",
      "Correctness vs. Threshold = (-0.5750283990741647, 0.0)\n",
      "Lengths vs. Agreement = (-0.01633789837767084, 0.2806188749786038)\n"
     ]
    }
   ],
   "source": [
    "idx = -1\n",
    "correctness = df_crt_test.correctness.iloc[idx]\n",
    "confidence = df_crt_test.confidence.iloc[idx]\n",
    "variability = df_crt_test.variability.iloc[idx]\n",
    "forgetfulness = df_crt_test.forgetfulness.iloc[idx]\n",
    "threshold = df_crt_test.threshold_closeness.iloc[idx]\n",
    "\n",
    "corrs = np.array(\n",
    "    experiments[\"random\"][0][\"correlation\"][0][-1][(\"deeplift\", \"grad-shap\")]\n",
    ")\n",
    "\n",
    "print(f\"Correctness vs. Agreement = {pearsonr(correctness, corrs)}\")\n",
    "print(f\"Confidence vs. Agreement = {pearsonr(confidence, corrs)}\")\n",
    "print(f\"Variability vs. Agreement = {pearsonr(variability, corrs)}\")\n",
    "print(f\"Forgetfulness vs. Agreement = {pearsonr(forgetfulness, corrs)}\")\n",
    "print(f\"Threshold vs. Agreement = {pearsonr(threshold, corrs)}\")\n",
    "print(f\"Correctness vs. Threshold = {pearsonr(correctness, threshold)}\")\n",
    "print(f\"Lengths vs. Agreement = {pearsonr(lengths, corrs)}\")"
   ]
  },
  {
   "cell_type": "code",
   "execution_count": 79,
   "id": "1ca96478",
   "metadata": {},
   "outputs": [
    {
     "data": {
      "text/plain": [
       "array([0.91954917, 0.9492261 , 0.9853799 , ..., 0.99810135, 0.89542246,\n",
       "       0.85745126], dtype=float32)"
      ]
     },
     "execution_count": 79,
     "metadata": {},
     "output_type": "execute_result"
    }
   ],
   "source": [
    "new_conf = np.where(confidence < 0.6, 1 - confidence, confidence)\n",
    "new_conf"
   ]
  },
  {
   "cell_type": "code",
   "execution_count": 156,
   "id": "662103bf",
   "metadata": {},
   "outputs": [
    {
     "name": "stdout",
     "output_type": "stream",
     "text": [
      "Confidence vs. Agreement = (0.012263238063950709, 0.41804241718105667)\n"
     ]
    }
   ],
   "source": [
    "print(f\"Confidence vs. Agreement = {pearsonr(lengths, variability)}\")"
   ]
  },
  {
   "cell_type": "code",
   "execution_count": 170,
   "id": "a8464622",
   "metadata": {},
   "outputs": [],
   "source": [
    "inds = np.random.choice(range(len(test)), 300)"
   ]
  },
  {
   "cell_type": "code",
   "execution_count": 176,
   "id": "2c267d3c",
   "metadata": {},
   "outputs": [
    {
     "data": {
      "image/png": "[encoded data removed]",
      "text/plain": [
       "<Figure size 432x288 with 1 Axes>"
      ]
     },
     "metadata": {
      "needs_background": "light"
     },
     "output_type": "display_data"
    }
   ],
   "source": [
    "import pandas as pd\n",
    "import seaborn as sns\n",
    "\n",
    "data = pd.DataFrame({\"correct\": correctness, \"correlation\": corrs})\n",
    "ax = sns.boxplot(x=\"correct\", y=\"correlation\", data=data)"
   ]
  },
  {
   "cell_type": "code",
   "execution_count": 171,
   "id": "1e26a057",
   "metadata": {},
   "outputs": [
    {
     "data": {
      "text/plain": [
       "<matplotlib.collections.PathCollection at 0x7f86fa283e20>"
      ]
     },
     "execution_count": 171,
     "metadata": {},
     "output_type": "execute_result"
    },
    {
     "data": {
      "image/png": "[encoded data removed]",
      "text/plain": [
       "<Figure size 432x288 with 1 Axes>"
      ]
     },
     "metadata": {
      "needs_background": "light"
     },
     "output_type": "display_data"
    }
   ],
   "source": [
    "plt.scatter(correctness[inds], corrs[inds])"
   ]
  },
  {
   "cell_type": "code",
   "execution_count": 117,
   "id": "5ce944e2",
   "metadata": {},
   "outputs": [
    {
     "data": {
      "text/plain": [
       "array([[0.00983451, 0.95767915],\n",
       "       [0.10356518, 0.84107435],\n",
       "       [0.32318285, 0.7168516 ],\n",
       "       ...,\n",
       "       [0.01792088, 0.9850588 ],\n",
       "       [0.13717234, 0.8051011 ],\n",
       "       [0.06044536, 0.589533  ]], dtype=float32)"
      ]
     },
     "execution_count": 117,
     "metadata": {},
     "output_type": "execute_result"
    }
   ],
   "source": [
    "X = np.stack([variability, confidence]).T\n",
    "X"
   ]
  },
  {
   "cell_type": "code",
   "execution_count": 119,
   "id": "55599fa9",
   "metadata": {},
   "outputs": [
    {
     "data": {
      "text/plain": [
       "LinearRegression()"
      ]
     },
     "execution_count": 119,
     "metadata": {},
     "output_type": "execute_result"
    }
   ],
   "source": [
    "from sklearn.linear_model import LinearRegression\n",
    "\n",
    "lr = LinearRegression()\n",
    "lr.fit(X, correctness)\n",
    "# correct = df_crt_test.variability.iloc[-1]\n",
    "# mms = MinMaxScaler()\n",
    "# scaled = mms.fit_transform(correct.reshape(-1, 1)).squeeze()\n",
    "# pearsonr(scaled, corrs)"
   ]
  },
  {
   "cell_type": "code",
   "execution_count": 122,
   "id": "14682f50",
   "metadata": {},
   "outputs": [
    {
     "data": {
      "text/plain": [
       "array([1.5116051, 6.272514 ], dtype=float32)"
      ]
     },
     "execution_count": 122,
     "metadata": {},
     "output_type": "execute_result"
    }
   ],
   "source": [
    "lr.intercept_\n",
    "lr.coef_"
   ]
  },
  {
   "cell_type": "code",
   "execution_count": 124,
   "id": "39cff1d2",
   "metadata": {},
   "outputs": [],
   "source": [
    "pred = lr.predict(X)"
   ]
  },
  {
   "cell_type": "code",
   "execution_count": 127,
   "id": "0233da7f",
   "metadata": {},
   "outputs": [
    {
     "data": {
      "text/plain": [
       "(0.9438331875364465, 0.0)"
      ]
     },
     "execution_count": 127,
     "metadata": {},
     "output_type": "execute_result"
    }
   ],
   "source": [
    "pearsonr(pred, correctness)"
   ]
  },
  {
   "cell_type": "code",
   "execution_count": 56,
   "id": "ee5d1a9f",
   "metadata": {},
   "outputs": [],
   "source": [
    "inds = scaled < 0.005"
   ]
  },
  {
   "cell_type": "code",
   "execution_count": 64,
   "id": "a8603d1f",
   "metadata": {},
   "outputs": [],
   "source": [
    "(idxs,) = np.where(inds)"
   ]
  },
  {
   "cell_type": "code",
   "execution_count": 119,
   "id": "d598aeb8",
   "metadata": {},
   "outputs": [
    {
     "data": {
      "text/plain": [
       "(-0.042872524972765225, 0.09863840166390044)"
      ]
     },
     "execution_count": 119,
     "metadata": {},
     "output_type": "execute_result"
    }
   ],
   "source": [
    "pearsonr(lengths[inds], corrs[inds])"
   ]
  },
  {
   "cell_type": "code",
   "execution_count": 75,
   "id": "3694e8ce",
   "metadata": {},
   "outputs": [],
   "source": [
    "b = ~(scaled >= 0.2) * (scaled <= 0.8)\n",
    "b = b.astype(np.int32)"
   ]
  },
  {
   "cell_type": "code",
   "execution_count": 76,
   "id": "4985d045",
   "metadata": {},
   "outputs": [
    {
     "data": {
      "text/plain": [
       "512"
      ]
     },
     "execution_count": 76,
     "metadata": {},
     "output_type": "execute_result"
    }
   ],
   "source": [
    "b.sum()"
   ]
  },
  {
   "cell_type": "code",
   "execution_count": 85,
   "id": "5be8b30a",
   "metadata": {},
   "outputs": [
    {
     "data": {
      "text/plain": [
       "Pipeline(steps=[('polynomialfeatures', PolynomialFeatures()),\n",
       "                ('linearregression', LinearRegression())])"
      ]
     },
     "execution_count": 85,
     "metadata": {},
     "output_type": "execute_result"
    }
   ],
   "source": [
    "from sklearn.preprocessing import PolynomialFeatures\n",
    "from sklearn.pipeline import make_pipeline\n",
    "from sklearn.linear_model import LinearRegression\n",
    "\n",
    "degree = 2\n",
    "polyreg = make_pipeline(PolynomialFeatures(degree), LinearRegression())\n",
    "polyreg.fit(scaled.reshape(-1, 1), corrs)"
   ]
  },
  {
   "cell_type": "code",
   "execution_count": 86,
   "id": "ccd6590c",
   "metadata": {},
   "outputs": [
    {
     "data": {
      "image/png": "[encoded data removed]",
      "text/plain": [
       "<Figure size 432x288 with 1 Axes>"
      ]
     },
     "metadata": {
      "needs_background": "light"
     },
     "output_type": "display_data"
    }
   ],
   "source": [
    "import matplotlib.pyplot as plt\n",
    "\n",
    "X_seq = np.linspace(scaled.min(), scaled.max(), 300).reshape(-1, 1)\n",
    "plt.figure()\n",
    "plt.scatter(, scaled)\n",
    "plt.plot(X_seq, polyreg.predict(X_seq), color=\"black\")\n",
    "plt.title(\"Polynomial regression with degree \" + str(degree))\n",
    "plt.show()"
   ]
  },
  {
   "cell_type": "code",
   "execution_count": null,
   "id": "4392488f",
   "metadata": {},
   "outputs": [],
   "source": [
    "plt.plot()"
   ]
  },
  {
   "cell_type": "code",
   "execution_count": 90,
   "id": "41ea558a",
   "metadata": {},
   "outputs": [
    {
     "data": {
      "text/plain": [
       "0.1261654099626146"
      ]
     },
     "execution_count": 90,
     "metadata": {},
     "output_type": "execute_result"
    }
   ],
   "source": [
    "import sklearn\n",
    "\n",
    "sklearn.metrics.r2_score(corrs, polyreg.predict(scaled.reshape(-1, 1)))"
   ]
  },
  {
   "cell_type": "code",
   "execution_count": null,
   "id": "0596ef0c",
   "metadata": {},
   "outputs": [],
   "source": [
    "PolynomialFeatures"
   ]
  },
  {
   "cell_type": "code",
   "execution_count": 43,
   "id": "6d45923b",
   "metadata": {},
   "outputs": [],
   "source": [
    "model = np.poly1d(np.polyfit(corrs, scaled, 2))"
   ]
  },
  {
   "cell_type": "code",
   "execution_count": 44,
   "id": "5ce173e2",
   "metadata": {},
   "outputs": [
    {
     "data": {
      "text/plain": [
       "array([0.81753996, 0.81753996, 0.78690508, ..., 0.81753996, 0.81753996,\n",
       "       0.81753996])"
      ]
     },
     "execution_count": 44,
     "metadata": {},
     "output_type": "execute_result"
    }
   ],
   "source": [
    "trans = model(scaled)\n",
    "trans"
   ]
  },
  {
   "cell_type": "code",
   "execution_count": 84,
   "id": "81f5cf5d",
   "metadata": {},
   "outputs": [
    {
     "data": {
      "text/plain": [
       "(0.264291155282007, 1.2266145001017638e-70)"
      ]
     },
     "execution_count": 84,
     "metadata": {},
     "output_type": "execute_result"
    }
   ],
   "source": [
    "pearsonr(scaled, corrs)"
   ]
  },
  {
   "cell_type": "code",
   "execution_count": 38,
   "id": "c6fdd708",
   "metadata": {},
   "outputs": [
    {
     "data": {
      "text/plain": [
       "(-0.034899618735527896,\n",
       " 0.4035899772904024,\n",
       " -0.0826515983704906,\n",
       " 4.572561310998237e-08,\n",
       " 0.006372177980030901)"
      ]
     },
     "execution_count": 38,
     "metadata": {},
     "output_type": "execute_result"
    }
   ],
   "source": [
    "slope, intercept, r_value, p_value, std_err"
   ]
  },
  {
   "cell_type": "code",
   "execution_count": 25,
   "id": "68d8f146",
   "metadata": {},
   "outputs": [
    {
     "data": {
      "text/plain": [
       "4363"
      ]
     },
     "execution_count": 25,
     "metadata": {},
     "output_type": "execute_result"
    }
   ],
   "source": [
    "len(scaled)"
   ]
  },
  {
   "cell_type": "code",
   "execution_count": 16,
   "id": "74215092",
   "metadata": {},
   "outputs": [],
   "source": [
    "corrs = np.array(\n",
    "    experiments[\"random\"][0][\"correlation\"][0][-1][(\"deeplift\", \"grad-shap\")]\n",
    ")"
   ]
  },
  {
   "cell_type": "code",
   "execution_count": 18,
   "id": "a3213817",
   "metadata": {},
   "outputs": [
    {
     "data": {
      "text/plain": [
       "(4363,)"
      ]
     },
     "execution_count": 18,
     "metadata": {},
     "output_type": "execute_result"
    }
   ],
   "source": [
    "corrs.shape"
   ]
  },
  {
   "cell_type": "code",
   "execution_count": 45,
   "id": "13c41b5a",
   "metadata": {},
   "outputs": [],
   "source": [
    "inds = []\n",
    "for i, l in enumerate(scaled):\n",
    "    if l < 0.01:\n",
    "        inds.append(i)"
   ]
  },
  {
   "cell_type": "code",
   "execution_count": 77,
   "id": "d5aedd8b",
   "metadata": {},
   "outputs": [
    {
     "data": {
      "text/plain": [
       "Example({\n",
       "    text: (None, ['phoned', 'work', 'sick', 'watched', 'this', 'in', 'bed', 'and', 'it', 'was', 'so', 'awful', 'i', 'would', 'have', 'went', 'back', 'to', 'work', 'if', 'i', 'could', 'have', 'gotten', 'out', 'of', 'bed', 'the', 'dog', 'ran', 'off', 'with', 'the', 'remote', 'so', 'i', 'was', 'stuck', 'br', 'br', \"i'm\", 'positive', 'hammer', 'was', 'grooming', 'the', 'eldest', 'daughter', 'to', 'become', 'his', 'br', 'br', 'horrendous', 'to', 'watch', 'made', 'me', 'vomit', 'more', 'than', 'what', 'i', 'was', 'doing', 'anyway', 'so', 'there', 'you', 'have', 'it', 'this', 'would', 'be', 'the', 'film', 'that', 'they', 'play', 'in', 'the', 'waiting', 'room', 'of', 'hell', 'before', 'you', 'go', 'in', 'or', 'maybe', 'your', 'stuck', 'in', 'the', 'film', 'for', 'all', 'eternity', 'with', 'the', 'hart', 'kids', 'just', 'remember', 'to', 'take', 'a', 'gun', 'with', 'you']),\n",
       "    label: (None, '0')\n",
       "})"
      ]
     },
     "execution_count": 77,
     "metadata": {},
     "output_type": "execute_result"
    }
   ],
   "source": [
    "test[idxs][4]"
   ]
  }
 ],
 "metadata": {
  "kernelspec": {
   "display_name": "Python 3 (ipykernel)",
   "language": "python",
   "name": "python3"
  },
  "language_info": {
   "codemirror_mode": {
    "name": "ipython",
    "version": 3
   },
   "file_extension": ".py",
   "mimetype": "text/x-python",
   "name": "python",
   "nbconvert_exporter": "python",
   "pygments_lexer": "ipython3",
   "version": "3.9.5"
  }
 },
 "nbformat": 4,
 "nbformat_minor": 5
}
